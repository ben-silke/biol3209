{
 "cells": [
  {
   "cell_type": "code",
   "execution_count": null,
   "metadata": {},
   "outputs": [],
   "source": []
  },
  {
   "cell_type": "markdown",
   "metadata": {},
   "source": [
    "{\"status\": \"ok\", \"message\": null, \"data\": [\"344926at33208\", \"595249at33208\"], \"count\": 22, \"skip\": 0, \"limit\": 2, \"query\": \"p450\", \"level\": 33208, \"url\": \"https://www.orthodb.org//search?query=p450&limit=2&level=33208&singlecopy=0.8\", \"universal\": null, \"singlecopy\": 80, \"inclusive\": 1}\n",
    "\n",
    "https://www.orthodb.org/search?query=p450&limit=2&level=33208&singlecopy=0.8"
   ]
  },
  {
   "cell_type": "markdown",
   "metadata": {},
   "source": [
    "\n",
    "Using /search we should be able to get a cluster id which can then be used to find the orthology.\n",
    "## /search\n",
    "\n",
    "Arguments: \n",
    "query - full query string \n",
    "ncbi - flag: if 0, then generic search, if 1 the query is assumed to be a NCBI gene id \n",
    "level - NCBI taxon id of the clade \n",
    "skip - number of hits to skip \n",
    "limit- maximum nr of hits (cluster ids) to return - default is 1000 \n",
    "universal - phyloprofile filter, present in 1.0, 0.9, 0.8 of all species in the clade \n",
    "singlecopy- phyloprofile filter, singlecopy in 1.0, 0.9, 0.8 of all species in the clade\n",
    "\n",
    "Returns: \n",
    "a list of clusters, the maximum number of clusters is defined by 'limit'\n",
    "\n",
    "Description: \n",
    "This finds all cluster id's matching a given query."
   ]
  },
  {
   "cell_type": "code",
   "execution_count": null,
   "metadata": {},
   "outputs": [],
   "source": [
    "import requests\n",
    "\n",
    "data = {\n",
    "    'query': 3433707,\n",
    "    'ncbi': 1,\n",
    "    'level': 306537,\n",
    "}\n",
    "\n",
    "endpoint = 'https://www.orthodb.org/search/'"
   ]
  },
  {
   "cell_type": "code",
   "execution_count": null,
   "metadata": {},
   "outputs": [],
   "source": [
    "r = requests.get(endpoint, data=data)\n",
    "print(r)\n",
    "\n",
    "test = requests.get('https://www.orthodb.org/search?query=p450&limit=2&level=33208&singlecopy=0.8')\n",
    "print(test)"
   ]
  },
  {
   "cell_type": "code",
   "execution_count": null,
   "metadata": {},
   "outputs": [],
   "source": [
    "print(test.json())"
   ]
  },
  {
   "cell_type": "code",
   "execution_count": null,
   "metadata": {},
   "outputs": [],
   "source": [
    "url = \"https://www.orthodb.org/search?query=3433707&ncbi=1\"\n",
    "\n",
    "full_url = requests.get(url)"
   ]
  },
  {
   "cell_type": "code",
   "execution_count": null,
   "metadata": {},
   "outputs": [],
   "source": [
    "print(full_url)\n",
    "dir(full_url)\n",
    "#  'reason',\n",
    "#  'request',\n",
    "#  'status_code',\n",
    "#  'text',\n",
    "#  'url'\n",
    "ids = full_url.json()['data']\n",
    "print(ids)"
   ]
  },
  {
   "cell_type": "markdown",
   "metadata": {},
   "source": [
    "# Finding the orthologs from the cluster ids\n",
    "\n",
    "/orthologs\n",
    "\n",
    "Arguments: \n",
    "id- OrthoDB cluster id \n",
    "species- optional comma-separated list of species taxid's\n",
    "\n",
    "Returns: \n",
    "a dictionary of tax id's, each contain a list of OrthoDB gene id's\n",
    "\n",
    "Description: \n",
    "Retrieve all genes in a given cluster, possibly filtered wrt species."
   ]
  },
  {
   "cell_type": "code",
   "execution_count": null,
   "metadata": {},
   "outputs": [],
   "source": [
    "from urllib import request\n",
    "\n",
    "\n",
    "ortholog_url = f\"https://www.orthodb.org/orthologs?id={ids[2]}\"\n",
    "\n",
    "o = requests.get(ortholog_url)"
   ]
  },
  {
   "cell_type": "code",
   "execution_count": null,
   "metadata": {},
   "outputs": [],
   "source": [
    "print(o)\n",
    "# print(o.json()['data'])\n",
    "zero = o.json()['data'][0]\n",
    "print(zero.keys())\n",
    "\n",
    "print(zero['genes'])\n",
    "print(zero['species_statistics'])\n",
    "print(zero['organism'])\n"
   ]
  },
  {
   "cell_type": "code",
   "execution_count": null,
   "metadata": {},
   "outputs": [],
   "source": [
    "import requests\n",
    "ORTHO_DB_ENDPOINT = url = \"https://www.orthodb.org/\"\n",
    "\n",
    "def get_orthoDB_id(query):\n",
    "    type = 'search'\n",
    "    query = f'?query={query}'\n",
    "\n",
    "    response = requests.get(ORTHO_DB_ENDPOINT+type+query)\n",
    "    return response.json()['data']\n",
    "\n",
    "\n",
    "# \"https://www.orthodb.org/orthologs?id={ids[2]}\"\n",
    "def get_orthologs_from_orthoDB(id):\n",
    "    \"\"\"\n",
    "    Returns the orthologs from OrthoDB using the OrthoDB id.\n",
    "    id = OrthoDB cluster id\n",
    "    \"\"\"\n",
    "    type = 'orthologs'\n",
    "    query = f'?id={id}'\n",
    "\n",
    "    response = requests.get(ORTHO_DB_ENDPOINT+type+query)\n",
    "    return response.json()\n",
    "    if response.json()['data']:\n",
    "        return response.json()['data'][0]['genes']\n",
    "    else:\n",
    "        return response.json()\n"
   ]
  },
  {
   "cell_type": "code",
   "execution_count": null,
   "metadata": {},
   "outputs": [],
   "source": [
    "ids = get_orthoDB_id('3433958')\n",
    "# This can be used on gene id\n",
    "ids"
   ]
  },
  {
   "cell_type": "code",
   "execution_count": null,
   "metadata": {},
   "outputs": [],
   "source": [
    "get_orthologs_from_orthoDB(ids[0])"
   ]
  },
  {
   "cell_type": "code",
   "execution_count": null,
   "metadata": {},
   "outputs": [],
   "source": [
    "get_orthologs_from_orthoDB(ids[1])"
   ]
  }
 ],
 "metadata": {
  "kernelspec": {
   "display_name": "Python 3.9.13 64-bit",
   "language": "python",
   "name": "python3"
  },
  "language_info": {
   "codemirror_mode": {
    "name": "ipython",
    "version": 3
   },
   "file_extension": ".py",
   "mimetype": "text/x-python",
   "name": "python",
   "nbconvert_exporter": "python",
   "pygments_lexer": "ipython3",
   "version": "3.9.13"
  },
  "orig_nbformat": 4,
  "vscode": {
   "interpreter": {
    "hash": "b0fa6594d8f4cbf19f97940f81e996739fb7646882a419484c72d19e05852a7e"
   }
  }
 },
 "nbformat": 4,
 "nbformat_minor": 2
}
