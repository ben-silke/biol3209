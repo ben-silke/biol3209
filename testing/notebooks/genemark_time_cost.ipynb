{
 "cells": [
  {
   "cell_type": "code",
   "execution_count": null,
   "metadata": {},
   "outputs": [],
   "source": [
    "import os\n",
    "os.chdir('../')\n",
    "os.listdir()\n"
   ]
  },
  {
   "cell_type": "code",
   "execution_count": null,
   "metadata": {},
   "outputs": [],
   "source": [
    "import csv\n",
    "import numpy as np\n",
    "import matplotlib.pyplot as plt"
   ]
  },
  {
   "cell_type": "code",
   "execution_count": null,
   "metadata": {},
   "outputs": [],
   "source": [
    "folders = [f'{d}' for d in os.listdir('data/output/genemark') if not 'four_or_two' in d]\n",
    "# folders\n",
    "prefix = 'data/output/genemark/'\n",
    "print(os.listdir())\n",
    "time = []\n",
    "for folder in folders:\n",
    "    file = f'{prefix}{folder}/{folder}.strace.txt'\n",
    "    try:\n",
    "        # print(fi)\n",
    "        with open(file) as f:\n",
    "            # print(f'YAY {file}')\n",
    "            rows = csv.reader(f)\n",
    "            for row in rows:\n",
    "                # print(row)\n",
    "                # print('total' in row)\n",
    "                # # print(type(row))\n",
    "                if 'total' in row[0]:\n",
    "                    # print(row)\n",
    "                    row = row[0].split(' ')\n",
    "                    # print(row[4])\n",
    "                    time.append(float(row[4]))\n",
    "                # print(row)\n",
    "    except Exception as e:\n",
    "        print(e, file)\n",
    "\n",
    "genemark_data = time"
   ]
  },
  {
   "cell_type": "code",
   "execution_count": null,
   "metadata": {},
   "outputs": [],
   "source": [
    "# folders = [f'{prefix}{d}' for d in os.listdir('data/output/prodigal')]\n",
    "# print(time)\n",
    "\n",
    "arr = np.array(time)\n"
   ]
  },
  {
   "cell_type": "code",
   "execution_count": null,
   "metadata": {},
   "outputs": [],
   "source": [
    "arr.mean()\n",
    "# print(arr)"
   ]
  },
  {
   "cell_type": "code",
   "execution_count": null,
   "metadata": {},
   "outputs": [],
   "source": [
    "# for folder in folders:\n",
    "#     print(folder)\n",
    "#     # if folder != 'N':\n",
    "#     print(os.listdir(folder))\n",
    "#     with open(folder+'.strace.txt') as f:\n",
    "#         reader = csv.reader(f)\n",
    "#         for row in reader:\n",
    "#             print(row)\n",
    "\n",
    "plt.hist(arr, bins=100)\n",
    "plt.xlabel('Time spent running (seconds)')\n",
    "plt.ylabel('Count of total runtime')\n",
    "plt.title('Histogram of time cost of genemark algorithm per sequence')\n",
    "# plt.text(0.7, 150, f')\n",
    "\n",
    "plt.text(0.3, 15, r'$\\mu=0.188$ seconds')\n"
   ]
  },
  {
   "cell_type": "code",
   "execution_count": null,
   "metadata": {},
   "outputs": [],
   "source": [
    "# genemark_data = time\n",
    "print(len(genemark_data))"
   ]
  },
  {
   "cell_type": "code",
   "execution_count": null,
   "metadata": {},
   "outputs": [],
   "source": [
    "folders = [f'{d}' for d in os.listdir('data/output/prodigal')]\n",
    "# folders\n",
    "prefix = 'data/output/prodigal/'\n",
    "print(os.listdir())\n",
    "time = []\n",
    "for folder in folders:\n",
    "    file = f'{prefix}{folder}/{folder}.strace.txt'\n",
    "    try:\n",
    "        # print(fi)\n",
    "        with open(file) as f:\n",
    "            # print(f'YAY {file}')\n",
    "            rows = csv.reader(f)\n",
    "            for row in rows:\n",
    "                # print(row)\n",
    "                # print('total' in row)\n",
    "                # # print(type(row))\n",
    "                if 'total' in row[0]:\n",
    "                    # print(row)\n",
    "                    row = row[0].split(' ')\n",
    "                    # print(row[4])\n",
    "                    time.append(float(row[4]))\n",
    "                # print(row)\n",
    "    except Exception as e:\n",
    "        print(e, file)\n"
   ]
  },
  {
   "cell_type": "code",
   "execution_count": null,
   "metadata": {},
   "outputs": [],
   "source": [
    "prodigal_data = time\n",
    "print(len(prodigal_data))"
   ]
  },
  {
   "cell_type": "code",
   "execution_count": null,
   "metadata": {},
   "outputs": [],
   "source": [
    "import pandas as p\n",
    "\n",
    "d = {\n",
    "    'Program': ['Genemark2S' for i in range(len(prodigal_data))] + ['Prodigal' for i in range(len(prodigal_data))],\n",
    "    # 'Program': ['Genemark2S' for i in range(len(prodigal_data))],\n",
    "    # 'data': genemark_data\n",
    "    # 'data': prodigal_data\n",
    "    # 'data': ['genemark' for i in range(len(gene_mark_list))] + ['prodigal' for i in range(len(gene_mark_list))],\n",
    "    'data': genemark_data + prodigal_data\n",
    "}\n",
    "df = p.DataFrame(data=d)\n",
    "df.mean()"
   ]
  },
  {
   "cell_type": "code",
   "execution_count": null,
   "metadata": {},
   "outputs": [],
   "source": [
    "import seaborn as sns\n",
    "\n",
    "fig = sns.histplot(data=df, hue=\"Program\", x='data', element=\"poly\")\n",
    "\n",
    "fig.set(\n",
    "    xlabel='Runtime (seconds)'\n",
    ")\n",
    "\n",
    "# plt.text(0.04, 3, r'$\\mu=0.020531$')\n",
    "# \\mu=0.004879\n",
    "fig.text(0.3, 200, r' $\\hat \\mu _{genemark2s}=1.9*10^{-1}$')\n",
    "fig.text(0.3, 170, r' $\\hat \\mu_{prodigal}=4.8*10^{-3}$')\n",
    "\n",
    "fig.annotate('Better', xy=(0.2, 500), xytext=(\n",
    "    0.3, 500), arrowprops=dict(facecolor='green', arrowstyle='->'))\n"
   ]
  }
 ],
 "metadata": {
  "interpreter": {
   "hash": "d8c0ad78633a8b43965fe5f8bc8a2da663397bf1cf3d05244bf937683be8c88a"
  },
  "kernelspec": {
   "display_name": "Python 3.9.12 ('base')",
   "language": "python",
   "name": "python3"
  },
  "language_info": {
   "codemirror_mode": {
    "name": "ipython",
    "version": 3
   },
   "file_extension": ".py",
   "mimetype": "text/x-python",
   "name": "python",
   "nbconvert_exporter": "python",
   "pygments_lexer": "ipython3",
   "version": "3.9.12"
  },
  "orig_nbformat": 4
 },
 "nbformat": 4,
 "nbformat_minor": 2
}
