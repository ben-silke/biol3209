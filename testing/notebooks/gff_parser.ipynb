{
 "cells": [
  {
   "cell_type": "code",
   "execution_count": null,
   "metadata": {},
   "outputs": [],
   "source": [
    "import gff3_parser\n",
    "filepath = \"gencode.v38.annotation.gff3\"\n",
    "just_tabular = gff3_parser.parse_gff3(filepath, verbose = True, parse_attributes = False)"
   ]
  }
 ],
 "metadata": {
  "language_info": {
   "name": "python"
  },
  "orig_nbformat": 4
 },
 "nbformat": 4,
 "nbformat_minor": 2
}
