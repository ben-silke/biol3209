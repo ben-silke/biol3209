{
 "cells": [
  {
   "cell_type": "code",
   "execution_count": 3,
   "metadata": {},
   "outputs": [
    {
     "name": "stdout",
     "output_type": "stream",
     "text": [
      "('NC_000913', DnaSequence(AGCTTTT... 4641652))\n",
      "<class 'tuple'>\n",
      "<class 'cogent3.core.sequence.DnaSequence'>\n",
      "MolType(('A', 'C', 'D', 'E', 'F', 'G', 'H', 'I', 'K', 'L', 'M', 'N', 'P', 'Q', 'R', 'S', 'T', 'U', 'V', 'W', 'Y'))\n",
      "['PROTEIN', '__add__', '__class__', '__contains__', '__delattr__', '__dict__', '__dir__', '__doc__', '__eq__', '__format__', '__ge__', '__getattribute__', '__getitem__', '__gt__', '__hash__', '__init__', '__init_subclass__', '__iter__', '__le__', '__len__', '__lt__', '__module__', '__ne__', '__new__', '__reduce__', '__reduce_ex__', '__repr__', '__setattr__', '__sizeof__', '__str__', '__subclasshook__', '__weakref__', '_annotations_nucleic_reversed_on', '_as_map', '_get_feature_start', '_mapped', '_projected_to_base', '_repr_html_', '_repr_policy', '_seq', '_seq_filter', '_shifted_annotations', '_sliced_annotations', 'add_annotation', 'add_feature', 'annotate_from_gff', 'annotate_matches_to', 'annotations', 'attach_annotations', 'can_match', 'can_mismatch', 'can_mispair', 'can_pair', 'clear_annotations', 'codon_alphabet', 'complement', 'copy', 'copy_annotations', 'count', 'count_degenerate', 'count_gaps', 'counts', 'degap', 'detach_annotations', 'diff', 'disambiguate', 'distance', 'first_degenerate', 'first_gap', 'first_invalid', 'first_non_strict', 'frac_diff', 'frac_diff_gaps', 'frac_diff_non_gaps', 'frac_same', 'frac_same_gaps', 'frac_same_non_gaps', 'frac_similar', 'gap_indices', 'gap_maps', 'gap_vector', 'gapped_by_map', 'gapped_by_map_motif_iter', 'gapped_by_map_segment_iter', 'get_annotations_matching', 'get_by_annotation', 'get_drawable', 'get_drawables', 'get_in_motif_size', 'get_name', 'get_orf_positions', 'get_region_covering_all', 'get_translation', 'gettype', 'has_terminal_stop', 'info', 'is_annotated', 'is_degenerate', 'is_gap', 'is_gapped', 'is_strict', 'is_valid', 'line_wrap', 'matrix_distance', 'moltype', 'must_match', 'must_pair', 'mw', 'name', 'parse_out_gaps', 'possibilities', 'protein', 'rc', 'replace', 'resolveambiguities', 'reverse_complement', 'shuffle', 'sliding_windows', 'strand_symmetry', 'strip_bad', 'strip_bad_and_gaps', 'strip_degenerate', 'to_dna', 'to_fasta', 'to_html', 'to_json', 'to_moltype', 'to_rich_dict', 'to_rna', 'translate', 'trim_stop_codon', 'with_masked_annotations', 'with_termini_unknown']\n"
     ]
    }
   ],
   "source": [
    "import os\n",
    "from pathlib import Path\n",
    "\n",
    "# DATADIR = Path(__file__).parent / \"data\"\n",
    "# print(DATADIR)\n",
    "from cogent3.parse.genbank import MinimalGenbankParser, RichGenbankParser\n",
    "\n",
    "\n",
    "os.chdir(\"/Users/bensilke/gavins-lab/biol3209/\")\n",
    "d = \"data/soil_reference_genomes\"\n",
    "# files = [\n",
    "#     os.path.join(d, f) for f in os.listdir(d) if os.path.isfile(os.path.join(d, f))\n",
    "# ]\n",
    "\n",
    "files = [\"data/soil_reference_genomes/NC_000913.3.gb\"]\n",
    "\n",
    "genes = []\n",
    "for file in files:\n",
    "    with open(file) as f:\n",
    "        # parser = MinimalGenbankParser(f)\n",
    "        parser = RichGenbankParser(f)\n",
    "        for p in parser:\n",
    "            genes.append(p)\n",
    "\n",
    "seq = genes[0][1]\n",
    "\n",
    "\n",
    "print(seq.protein)\n",
    "print(dir(seq))"
   ]
  },
  {
   "cell_type": "code",
   "execution_count": 5,
   "metadata": {},
   "outputs": [
    {
     "data": {
      "text/plain": [
       "CDS \"thrL\" at [189:255]/4641652"
      ]
     },
     "execution_count": 5,
     "metadata": {},
     "output_type": "execute_result"
    }
   ],
   "source": [
    "type(seq.annotations[1])"
   ]
  }
 ],
 "metadata": {
  "kernelspec": {
   "display_name": "Python 3.9.13 64-bit",
   "language": "python",
   "name": "python3"
  },
  "language_info": {
   "codemirror_mode": {
    "name": "ipython",
    "version": 3
   },
   "file_extension": ".py",
   "mimetype": "text/x-python",
   "name": "python",
   "nbconvert_exporter": "python",
   "pygments_lexer": "ipython3",
   "version": "3.9.13"
  },
  "orig_nbformat": 4,
  "vscode": {
   "interpreter": {
    "hash": "b0fa6594d8f4cbf19f97940f81e996739fb7646882a419484c72d19e05852a7e"
   }
  }
 },
 "nbformat": 4,
 "nbformat_minor": 2
}
