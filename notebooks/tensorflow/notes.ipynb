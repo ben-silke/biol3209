{
 "cells": [
  {
   "cell_type": "markdown",
   "metadata": {},
   "source": [
    "# Notes\n",
    "This url is really good -https://medium.com/@h_76213/efficient-dna-embedding-with-tensorflow-ffce5f499083\n",
    "\n",
    "This discusses the one hot encoding method; essentially this is a method which processes the sequence and returns an encoded sequence. \n",
    "\n",
    "It is currently unclear the next mapping / transformation which needs to occur, this probably needs to be some sort of distance calculation. \n",
    "However, this distance is a fundamental issue - what is an ortholog? this is a contextual definition - it is dependent upon what is surronding it.\n",
    "this i suppose is a really good thing to talk about. Despite being annoying.\n",
    "\n",
    "A potential idea is to find a case where sequence similarity is done using machine learning; and then subsequently applying this to genes after extracting them from prodigal.\n",
    "\n",
    "The mapping can be extended to account for other values, like 'R' which may be beneficial.\n"
   ]
  },
  {
   "cell_type": "code",
   "execution_count": null,
   "metadata": {},
   "outputs": [],
   "source": [
    "import tensorflow as tf\n",
    "import numpy as np"
   ]
  },
  {
   "cell_type": "code",
   "execution_count": null,
   "metadata": {},
   "outputs": [],
   "source": [
    "def dna_encode_embedding_table(dna_input, name=\"dna_encode\"):\n",
    "  \"\"\"Map DNA sequence to one-hot encoding using an \n",
    "     embedding table.\"\"\"\n",
    "\n",
    "  # Define the embedding table\n",
    "  _embedding_values = np.zeros([84, 4], np.float32)\n",
    "  _embedding_values[ord('A')] = np.array([1, 0, 0, 0])\n",
    "  _embedding_values[ord('C')] = np.array([0, 1, 0, 0])\n",
    "  _embedding_values[ord('G')] = np.array([0, 0, 1, 0])\n",
    "  _embedding_values[ord('T')] = np.array([0, 0, 0, 1])\n",
    "  embedding_table = tf.get_variable(\n",
    "      'dna_lookup_table', _embedding_values.shape,\n",
    "      initializer=tf.constant_initializer(_embedding_values),\n",
    "      trainable=False  # Ensure that embedding table is not trained\n",
    "  )\n",
    "  with tf.name_scope(name):\n",
    "    dna_input = tf.decode_raw(\n",
    "        dna_input, tf.uint8)  # Interpret string as bytes\n",
    "    dna_32 = tf.cast(dna_input, tf.int32)\n",
    "    encoded_dna = tf.nn.embedding_lookup(embedding_table, dna_32)\n",
    "  return encoded_dna\n"
   ]
  }
 ],
 "metadata": {
  "language_info": {
   "name": "python"
  },
  "orig_nbformat": 4
 },
 "nbformat": 4,
 "nbformat_minor": 2
}
