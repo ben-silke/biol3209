{
 "cells": [
  {
   "cell_type": "code",
   "execution_count": null,
   "metadata": {},
   "outputs": [],
   "source": []
  },
  {
   "cell_type": "markdown",
   "metadata": {},
   "source": [
    "{\"status\": \"ok\", \"message\": null, \"data\": [\"344926at33208\", \"595249at33208\"], \"count\": 22, \"skip\": 0, \"limit\": 2, \"query\": \"p450\", \"level\": 33208, \"url\": \"https://www.orthodb.org//search?query=p450&limit=2&level=33208&singlecopy=0.8\", \"universal\": null, \"singlecopy\": 80, \"inclusive\": 1}\n",
    "\n",
    "https://www.orthodb.org/search?query=p450&limit=2&level=33208&singlecopy=0.8"
   ]
  },
  {
   "cell_type": "markdown",
   "metadata": {},
   "source": [
    "\n",
    "Using /search we should be able to get a cluster id which can then be used to find the orthology.\n",
    "## /search\n",
    "\n",
    "Arguments: \n",
    "query - full query string \n",
    "ncbi - flag: if 0, then generic search, if 1 the query is assumed to be a NCBI gene id \n",
    "level - NCBI taxon id of the clade \n",
    "skip - number of hits to skip \n",
    "limit- maximum nr of hits (cluster ids) to return - default is 1000 \n",
    "universal - phyloprofile filter, present in 1.0, 0.9, 0.8 of all species in the clade \n",
    "singlecopy- phyloprofile filter, singlecopy in 1.0, 0.9, 0.8 of all species in the clade\n",
    "\n",
    "Returns: \n",
    "a list of clusters, the maximum number of clusters is defined by 'limit'\n",
    "\n",
    "Description: \n",
    "This finds all cluster id's matching a given query."
   ]
  },
  {
   "cell_type": "code",
   "execution_count": 1,
   "metadata": {},
   "outputs": [
    {
     "name": "stderr",
     "output_type": "stream",
     "text": [
      "/opt/homebrew/lib/python3.9/site-packages/requests/__init__.py:102: RequestsDependencyWarning: urllib3 (1.26.9) or chardet (5.0.0)/charset_normalizer (2.0.12) doesn't match a supported version!\n",
      "  warnings.warn(\"urllib3 ({}) or chardet ({})/charset_normalizer ({}) doesn't match a supported \"\n"
     ]
    }
   ],
   "source": [
    "import requests\n",
    "\n",
    "data = {\n",
    "    'query': 3433707,\n",
    "    'ncbi': 1,\n",
    "    'level': 306537,\n",
    "}\n",
    "\n",
    "endpoint = 'https://www.orthodb.org/search/'"
   ]
  },
  {
   "cell_type": "code",
   "execution_count": 4,
   "metadata": {},
   "outputs": [
    {
     "name": "stdout",
     "output_type": "stream",
     "text": [
      "<Response [404]>\n",
      "<Response [200]>\n"
     ]
    }
   ],
   "source": [
    "r = requests.get(endpoint, data=data)\n",
    "print(r)\n",
    "\n",
    "test = requests.get('https://www.orthodb.org/search?query=p450&limit=2&level=33208&singlecopy=0.8')\n",
    "print(test)"
   ]
  },
  {
   "cell_type": "code",
   "execution_count": 14,
   "metadata": {},
   "outputs": [
    {
     "name": "stdout",
     "output_type": "stream",
     "text": [
      "{'status': 'ok', 'message': None, 'data': ['344926at33208', '595249at33208'], 'count': 22, 'skip': 0, 'limit': 2, 'query': 'p450', 'level': 33208, 'url': 'https://www.orthodb.org//search?query=p450&limit=2&level=33208&singlecopy=0.8', 'universal': None, 'singlecopy': 80, 'inclusive': 1}\n"
     ]
    }
   ],
   "source": [
    "print(test.json())"
   ]
  },
  {
   "cell_type": "code",
   "execution_count": 22,
   "metadata": {},
   "outputs": [],
   "source": [
    "url = \"https://www.orthodb.org/search?query=3433707\"\n",
    "\n",
    "full_url = requests.get(url)"
   ]
  },
  {
   "cell_type": "code",
   "execution_count": 25,
   "metadata": {},
   "outputs": [
    {
     "name": "stdout",
     "output_type": "stream",
     "text": [
      "<Response [200]>\n",
      "['13886at85007', '2868at1716', '47697at1760', '78014at201174', '219876at2']\n"
     ]
    }
   ],
   "source": [
    "print(full_url)\n",
    "dir(full_url)\n",
    "#  'reason',\n",
    "#  'request',\n",
    "#  'status_code',\n",
    "#  'text',\n",
    "#  'url'\n",
    "ids = full_url.json()['data']\n",
    "print(ids)"
   ]
  },
  {
   "cell_type": "markdown",
   "metadata": {},
   "source": [
    "# Finding the orthologs from the cluster ids\n",
    "\n",
    "/orthologs\n",
    "\n",
    "Arguments: \n",
    "id- OrthoDB cluster id \n",
    "species- optional comma-separated list of species taxid's\n",
    "\n",
    "Returns: \n",
    "a dictionary of tax id's, each contain a list of OrthoDB gene id's\n",
    "\n",
    "Description: \n",
    "Retrieve all genes in a given cluster, possibly filtered wrt species."
   ]
  },
  {
   "cell_type": "code",
   "execution_count": 30,
   "metadata": {},
   "outputs": [],
   "source": [
    "from urllib import request\n",
    "\n",
    "\n",
    "ortholog_url = f\"https://www.orthodb.org/orthologs?id={ids[2]}\"\n",
    "\n",
    "o = requests.get(ortholog_url)"
   ]
  },
  {
   "cell_type": "code",
   "execution_count": 37,
   "metadata": {},
   "outputs": [
    {
     "name": "stdout",
     "output_type": "stream",
     "text": [
      "<Response [200]>\n",
      "dict_keys(['genes', 'species_statistics', 'organism'])\n",
      "[{'aas': '697', 'how_much_more_info': 2, 'interpro': [{'id': 'IPR001957', 'param': '7..694', 'type': 'interpro', 'description': 'Chromosomal replication control, initiator DnaA'}, {'id': 'IPR038454', 'param': '26..89', 'type': 'interpro', 'description': 'DnaA, N-terminal domain superfamily'}, {'id': 'IPR027417', 'param': '357..569', 'type': 'interpro', 'description': 'P-loop containing nucleoside triphosphate hydrolase'}, {'id': 'IPR013317', 'param': '358..575', 'type': 'interpro', 'description': 'Chromosomal replication initiator protein DnaA'}, {'id': 'IPR003593', 'param': '390..518', 'type': 'interpro', 'description': 'AAA+ ATPase domain'}, {'id': 'IPR020591', 'param': '391..411', 'type': 'interpro', 'description': 'Chromosomal replication control, initiator DnaA-like'}, {'id': 'IPR010921', 'param': '600..696', 'type': 'interpro', 'description': 'Trp repressor/replication initiator'}, {'id': 'IPR013159', 'param': '604..673', 'type': 'interpro', 'description': 'Chromosomal replication initiator, DnaA C-terminal'}, {'id': 'IPR018312', 'param': '654..673', 'type': 'interpro', 'description': 'Chromosomal replication control, initiator DnaA, conserved site'}], 'uniprot': {'id': 'A0A126Y5Q6', 'name': 'Chromosomal replication initiator protein DnaA', 'type': 'uniprot'}, 'gene_id': {'id': 'dnaA', 'param': '1888_0:000bd1'}, 'more_info': True, 'description': 'Chromosomal replication initiator protein DnaA'}]\n"
     ]
    }
   ],
   "source": [
    "print(o)\n",
    "# print(o.json()['data'])\n",
    "zero = o.json()['data'][0]\n",
    "print(zero.keys())\n",
    "\n",
    "print(zero['genes'])\n",
    "print(zero['species_statistics'])\n",
    "print(zero['organism'])\n"
   ]
  }
 ],
 "metadata": {
  "kernelspec": {
   "display_name": "Python 3.9.13 64-bit",
   "language": "python",
   "name": "python3"
  },
  "language_info": {
   "codemirror_mode": {
    "name": "ipython",
    "version": 3
   },
   "file_extension": ".py",
   "mimetype": "text/x-python",
   "name": "python",
   "nbconvert_exporter": "python",
   "pygments_lexer": "ipython3",
   "version": "3.9.13"
  },
  "orig_nbformat": 4,
  "vscode": {
   "interpreter": {
    "hash": "b0fa6594d8f4cbf19f97940f81e996739fb7646882a419484c72d19e05852a7e"
   }
  }
 },
 "nbformat": 4,
 "nbformat_minor": 2
}
