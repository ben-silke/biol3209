{
 "cells": [
  {
   "cell_type": "code",
   "execution_count": null,
   "metadata": {},
   "outputs": [],
   "source": [
    "import os\n",
    "os.chdir('../')\n",
    "os.listdir()\n"
   ]
  },
  {
   "cell_type": "code",
   "execution_count": null,
   "metadata": {},
   "outputs": [],
   "source": [
    "import csv\n",
    "import numpy as np\n",
    "import matplotlib.pyplot as plt"
   ]
  },
  {
   "cell_type": "code",
   "execution_count": null,
   "metadata": {},
   "outputs": [],
   "source": [
    "folders = [f'{d}' for d in os.listdir('data/output/prodigal')]\n",
    "# folders\n",
    "prefix = 'data/output/prodigal/'\n",
    "print(os.listdir())\n",
    "time = []\n",
    "for folder in folders:\n",
    "    file = f'{prefix}{folder}/{folder}.strace.txt'\n",
    "    try:\n",
    "        # print(fi)\n",
    "        with open(file) as f:\n",
    "            # print(f'YAY {file}')\n",
    "            rows = csv.reader(f)\n",
    "            for row in rows:\n",
    "                # print(row)\n",
    "                # print('total' in row)\n",
    "                # # print(type(row))\n",
    "                if 'total' in row[0]:\n",
    "                    # print(row)\n",
    "                    row = row[0].split(' ')\n",
    "                    # print(row[4])\n",
    "                    time.append(float(row[4]))\n",
    "                # print(row)\n",
    "    except Exception as e:\n",
    "        print(e, file)\n"
   ]
  },
  {
   "cell_type": "code",
   "execution_count": null,
   "metadata": {},
   "outputs": [],
   "source": [
    "# folders = [f'{prefix}{d}' for d in os.listdir('data/output/prodigal')]\n",
    "# print(time)\n",
    "\n",
    "arr = np.array(time)\n"
   ]
  },
  {
   "cell_type": "code",
   "execution_count": null,
   "metadata": {},
   "outputs": [],
   "source": [
    "arr.mean()\n",
    "# print(arr)"
   ]
  },
  {
   "cell_type": "code",
   "execution_count": null,
   "metadata": {},
   "outputs": [],
   "source": [
    "# for folder in folders:\n",
    "#     print(folder)\n",
    "#     # if folder != 'N':\n",
    "#     print(os.listdir(folder))\n",
    "#     with open(folder+'.strace.txt') as f:\n",
    "#         reader = csv.reader(f)\n",
    "#         for row in reader:\n",
    "#             print(row)\n",
    "\n",
    "plt.hist(arr, bins=500)\n",
    "plt.xlabel('Time spent running (seconds)')\n",
    "plt.ylabel('Count of total runtime')\n",
    "plt.title('Histogram of time cost of prodigal algorithm per sequence')\n",
    "# plt.text(0.7, 150, f')\n",
    "\n",
    "plt.text(0.10, 30, r'$\\mu=0.004879$')\n"
   ]
  },
  {
   "cell_type": "code",
   "execution_count": null,
   "metadata": {},
   "outputs": [],
   "source": [
    "prodigal_data = arr\n",
    "\n",
    "import seaborn as sns\n",
    "\n",
    "figure = sns.histplot(\n",
    "    data=prodigal_data,\n",
    "    # xlabel=\"exact_matches_per_sequence\",\n",
    "    bins=50,\n",
    "    element=\"poly\",\n",
    "    # y='Sequence Counts'\n",
    ")\n",
    "\n",
    "# figure.set_axis_labels('')\n",
    "figure.set(\n",
    "    xlabel='Runtime (seconds)'\n",
    ")\n",
    "figure.text(0.1, 200, r'$\\hat \\mu=4.9*10^{-3}$')\n",
    "\n",
    "# figure.text(0.8,10, r'$\\it{E. coli}$')\n",
    "\n",
    "# circle = plt.Circle((0.9,2), 0.02, color='g', alpha=0.4)\n",
    "\n",
    "# figure.annotate(r'$\\it{E. coli}$', xy=(0.9, 1), xytext=(\n",
    "#     0.8, 20), arrowprops=dict(facecolor='blue', arrowstyle='->'))\n",
    "\n",
    "# figure.add_patch(circle)\n",
    "\n",
    "figure.annotate('Better', xy=(0.1, 300), xytext=(\n",
    "    0.2, 300), arrowprops=dict(facecolor='green', arrowstyle='->'))\n"
   ]
  }
 ],
 "metadata": {
  "interpreter": {
   "hash": "d8c0ad78633a8b43965fe5f8bc8a2da663397bf1cf3d05244bf937683be8c88a"
  },
  "kernelspec": {
   "display_name": "Python 3.9.12 ('base')",
   "language": "python",
   "name": "python3"
  },
  "language_info": {
   "codemirror_mode": {
    "name": "ipython",
    "version": 3
   },
   "file_extension": ".py",
   "mimetype": "text/x-python",
   "name": "python",
   "nbconvert_exporter": "python",
   "pygments_lexer": "ipython3",
   "version": "3.9.12"
  },
  "orig_nbformat": 4
 },
 "nbformat": 4,
 "nbformat_minor": 2
}
