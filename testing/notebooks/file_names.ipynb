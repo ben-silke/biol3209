{
 "cells": [
  {
   "cell_type": "code",
   "execution_count": null,
   "metadata": {},
   "outputs": [],
   "source": [
    "import os\n",
    "os.chdir('../../')\n",
    "os.listdir()"
   ]
  },
  {
   "cell_type": "code",
   "execution_count": null,
   "metadata": {},
   "outputs": [],
   "source": [
    "print(os.listdir())"
   ]
  },
  {
   "cell_type": "code",
   "execution_count": null,
   "metadata": {},
   "outputs": [],
   "source": [
    "completed_files = [\n",
    "    f.split('_genemark')[0] for f in os.listdir('testing/results/genemark')\n",
    "]\n",
    "print(len(completed_files))\n",
    "print(completed_files)"
   ]
  },
  {
   "cell_type": "code",
   "execution_count": null,
   "metadata": {},
   "outputs": [],
   "source": [
    "d='testing/data/output/genemark'\n",
    "\n",
    "files = [\n",
    "    f for f in os.listdir(d) if f.split('.')[0] not in completed_files\n",
    "    # f for f in os.listdir(d)\n",
    "]\n",
    "\n",
    "\n",
    "print(len(files))\n",
    "# print(files)"
   ]
  },
  {
   "cell_type": "code",
   "execution_count": null,
   "metadata": {},
   "outputs": [],
   "source": [
    "for file in files:\n",
    "    \n",
    "    print(\n",
    "        # \"'\"+f'gnome-terminal --wait -- bash -c \"conda activate base; python3 /home/ben/research/biol3209/dnadatabase/compare_genemark2s_results.py --f {file}; exec bash\"'+\"'\"\n",
    "        f'gnome-terminal -- bash -c \"conda activate base; python3 /home/ben/research/biol3209/dnadatabase/compare_genemark2s_results.py --f {file}; exec bash\"'\n",
    "        # f'gnome-terminal --wait -- bash -c \"conda activate base; python3 compare_genemark2s_results.py --f {file}; exec bash\"'\n",
    "    )\n",
    "# gnome-terminal -- bash -c \"<my command or script>; exec bash\""
   ]
  },
  {
   "cell_type": "code",
   "execution_count": null,
   "metadata": {},
   "outputs": [],
   "source": [
    "for file in files:\n",
    "\n",
    "    print(\n",
    "        # \"'\"+f'gnome-terminal --wait -- bash -c \"conda activate base; python3 /home/ben/research/biol3209/dnadatabase/compare_genemark2s_results.py --f {file}; exec bash\"'+\"'\"\n",
    "        f'gnome-terminal -- bash -c \"conda activate base; python3 /home/ben/research/biol3209/dnadatabase/compare_genemark2s_results.py --f {file}; exec bash\"'\n",
    "        # f'gnome-terminal --wait -- bash -c \"conda activate base; python3 compare_genemark2s_results.py --f {file}; exec bash\"'\n",
    "    )\n",
    "# gnome-terminal -- bash -c \"<my command or script>; exec bash\"\n"
   ]
  },
  {
   "cell_type": "code",
   "execution_count": null,
   "metadata": {},
   "outputs": [],
   "source": []
  }
 ],
 "metadata": {
  "kernelspec": {
   "display_name": "Python 3.10.6 64-bit",
   "language": "python",
   "name": "python3"
  },
  "language_info": {
   "codemirror_mode": {
    "name": "ipython",
    "version": 3
   },
   "file_extension": ".py",
   "mimetype": "text/x-python",
   "name": "python",
   "nbconvert_exporter": "python",
   "pygments_lexer": "ipython3",
   "version": "3.8.10"
  },
  "orig_nbformat": 4,
  "vscode": {
   "interpreter": {
    "hash": "b0fa6594d8f4cbf19f97940f81e996739fb7646882a419484c72d19e05852a7e"
   }
  }
 },
 "nbformat": 4,
 "nbformat_minor": 2
}
