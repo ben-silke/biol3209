{
 "cells": [
  {
   "cell_type": "markdown",
   "metadata": {},
   "source": [
    "# Types of orthologs\n",
    "\n",
    "1-to-1 orthologues (ortholog_one2one)\n",
    "1-to-many orthologues (ortholog_one2many)\n",
    "many-to-many orthologues (ortholog_many2many)\n",
    "different-species paralogies —only as exceptions, see below — (reusing the three orthology types above)\n",
    "\n",
    "using ensemble to get data:\n",
    "https://bacteria.ensembl.org/info/genome/compara/homology_method.html\n",
    "https://pubmed.ncbi.nlm.nih.gov/19029536/\n"
   ]
  }
 ],
 "metadata": {
  "kernelspec": {
   "display_name": "Python 3.10.6 64-bit",
   "language": "python",
   "name": "python3"
  },
  "language_info": {
   "name": "python",
   "version": "3.10.6"
  },
  "orig_nbformat": 4,
  "vscode": {
   "interpreter": {
    "hash": "b0fa6594d8f4cbf19f97940f81e996739fb7646882a419484c72d19e05852a7e"
   }
  }
 },
 "nbformat": 4,
 "nbformat_minor": 2
}
