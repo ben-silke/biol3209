{
 "cells": [
  {
   "cell_type": "markdown",
   "metadata": {},
   "source": [
    "# Types of orthologs\n",
    "\n",
    "1-to-1 orthologues (ortholog_one2one)\n",
    "1-to-many orthologues (ortholog_one2many)\n",
    "many-to-many orthologues (ortholog_many2many)\n",
    "different-species paralogies —only as exceptions, see below — (reusing the three orthology types above)"
   ]
  }
 ],
 "metadata": {
  "language_info": {
   "name": "python"
  },
  "orig_nbformat": 4
 },
 "nbformat": 4,
 "nbformat_minor": 2
}
