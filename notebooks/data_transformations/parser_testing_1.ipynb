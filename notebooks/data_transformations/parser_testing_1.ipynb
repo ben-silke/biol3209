{
 "cells": [
  {
   "cell_type": "code",
   "execution_count": null,
   "metadata": {},
   "outputs": [],
   "source": [
    "import os\n",
    "from pathlib import Path\n",
    "\n",
    "# DATADIR = Path(__file__).parent / \"data\"\n",
    "# print(DATADIR)\n",
    "from cogent3.parse.genbank import MinimalGenbankParser, RichGenbankParser\n",
    "\n",
    "\n",
    "os.chdir(\"/Users/bensilke/gavins-lab/biol3209/\")\n",
    "d = \"data/soil_reference_genomes\"\n",
    "# files = [\n",
    "#     os.path.join(d, f) for f in os.listdir(d) if os.path.isfile(os.path.join(d, f))\n",
    "# ]\n",
    "\n",
    "files = [\"data/soil_reference_genomes/NC_000913.3.gb\"]\n",
    "\n",
    "genes = []\n",
    "for file in files:\n",
    "    with open(file) as f:\n",
    "        # parser = MinimalGenbankParser(f)\n",
    "        parser = MinimalGenbankParser(f)\n",
    "        for p in parser:\n",
    "            genes.append(p)\n",
    "\n",
    "seq = genes[0]\n",
    "\n",
    "\n",
    "# print(seq)\n",
    "print(dir(seq))\n",
    "print(seq.keys())"
   ]
  },
  {
   "cell_type": "code",
   "execution_count": null,
   "metadata": {},
   "outputs": [],
   "source": [
    "# for k in seq.keys():\n",
    "#     if not k == 'comment':\n",
    "#         print(f'{k=} and  {type(seq[k])=}')\n",
    "        # print(seq[k])\n",
    "\n",
    "seq['features']\n",
    "\n",
    "for i, feature in enumerate(seq['features']):\n",
    "    if feature['type'] in ['gene', 'CDS']:\n",
    "        print(feature)\n",
    "        print(feature.keys())\n",
    "    \n",
    "    if i == 4:\n",
    "        break"
   ]
  }
 ],
 "metadata": {
  "kernelspec": {
   "display_name": "Python 3.9.13 64-bit",
   "language": "python",
   "name": "python3"
  },
  "language_info": {
   "codemirror_mode": {
    "name": "ipython",
    "version": 3
   },
   "file_extension": ".py",
   "mimetype": "text/x-python",
   "name": "python",
   "nbconvert_exporter": "python",
   "pygments_lexer": "ipython3",
   "version": "3.9.13"
  },
  "orig_nbformat": 4,
  "vscode": {
   "interpreter": {
    "hash": "b0fa6594d8f4cbf19f97940f81e996739fb7646882a419484c72d19e05852a7e"
   }
  }
 },
 "nbformat": 4,
 "nbformat_minor": 2
}
