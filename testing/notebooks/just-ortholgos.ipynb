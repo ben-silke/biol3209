{
 "cells": [
  {
   "cell_type": "code",
   "execution_count": null,
   "metadata": {},
   "outputs": [],
   "source": [
    "ls = (\n",
    "'UP000000557_251221 x UP000000557_251221',\n",
    "'UP000000557_251221 x UP000001425_1111708',\n",
    "'UP000000557_251221 x UP000002521_190304',\n",
    "'UP000001425_1111708 x UP000000557_251221',\n",
    "'UP000001425_1111708 x UP000001425_1111708',\n",
    "'UP000001425_1111708 x UP000002521_190304',\n",
    "'UP000002521_190304 x UP000000557_251221',\n",
    "'UP000002521_190304 x UP000001425_1111708',\n",
    "# '...',\n",
    "'UP000002521_190304 x UP000002521_190304'\n",
    ")\n",
    "\n",
    "import matplotlib.pyplot as plt\n",
    "import numpy as np\n",
    "\n",
    "objects = ls\n",
    "\n",
    "y_pos = np.arange(len(objects))\n",
    "\n",
    "plt.barh(y_pos, np.array([0,0,0,0,0,0,0,0,0]), align='center',)\n",
    "plt.yticks(y_pos, objects)\n",
    "# plt.title('Best performing accuracy for just orthologs found orthologs')\n",
    "plt.xlabel('Orthologs found (no.)')\n",
    "\n",
    "plt.xlim(0)\n",
    "\n",
    "# plt.annotate('Better', xy=(0.05, 'UP000002521_190304 x UP000001425_1111708'), xytext=(\n",
    "#     0.01, 'UP000002521_190304 x UP000001425_1111708'), arrowprops=dict(facecolor='green', arrowstyle='->'))\n"
   ]
  },
  {
   "cell_type": "code",
   "execution_count": null,
   "metadata": {},
   "outputs": [],
   "source": [
    "print(len(ls))"
   ]
  }
 ],
 "metadata": {
  "interpreter": {
   "hash": "d8c0ad78633a8b43965fe5f8bc8a2da663397bf1cf3d05244bf937683be8c88a"
  },
  "kernelspec": {
   "display_name": "Python 3.9.12 ('base')",
   "language": "python",
   "name": "python3"
  },
  "language_info": {
   "codemirror_mode": {
    "name": "ipython",
    "version": 3
   },
   "file_extension": ".py",
   "mimetype": "text/x-python",
   "name": "python",
   "nbconvert_exporter": "python",
   "pygments_lexer": "ipython3",
   "version": "3.9.12"
  },
  "orig_nbformat": 4
 },
 "nbformat": 4,
 "nbformat_minor": 2
}
