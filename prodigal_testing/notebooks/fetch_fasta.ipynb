{
 "cells": [
  {
   "cell_type": "markdown",
   "metadata": {},
   "source": [
    "Script to fetch and save sequences.\n",
    "\n",
    "for id in \"${ids[@]}\"\n",
    "do\n",
    "    echo $id\n",
    "    a=\"$(efetch -db gene -id $id -format fasta)\"\n",
    "    echo $a >> fasta_sequences/$id.fasta\n",
    "done"
   ]
  }
 ],
 "metadata": {
  "language_info": {
   "name": "python"
  },
  "orig_nbformat": 4
 },
 "nbformat": 4,
 "nbformat_minor": 2
}
