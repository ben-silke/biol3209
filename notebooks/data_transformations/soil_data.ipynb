{
 "cells": [
  {
   "cell_type": "code",
   "execution_count": null,
   "metadata": {},
   "outputs": [],
   "source": [
    "\n",
    "import cogent3\n",
    "\n",
    "from cogent3.parse.genbank import RichGenbankParser\n",
    "from cogent3.parse.genbank import MinimalGenbankParser\n",
    "import os\n",
    "import sys\n",
    "from rich import progress\n",
    "\n",
    "os.chdir(\"/Users/bensilke/gavins-lab/biol3209/\")\n",
    "\n",
    "d = 'data/soil_reference_genomes/'\n",
    "files = [\n",
    "    os.path.join(d, f) for f in os.listdir(d) if os.path.isfile(os.path.join(d, f))\n",
    "]\n",
    "\n",
    "file = files[0]"
   ]
  },
  {
   "cell_type": "code",
   "execution_count": null,
   "metadata": {},
   "outputs": [],
   "source": [
    "genes=[]\n",
    "\n",
    "with progress.open(file) as open_file:\n",
    "    parser = MinimalGenbankParser(open_file)\n",
    "\n",
    "    for p in parser:\n",
    "        # print(p)\n",
    "        genes.append(p)\n",
    "# rich_parser = RichGenbankParser(file)\n",
    "\n",
    "\n"
   ]
  },
  {
   "cell_type": "code",
   "execution_count": null,
   "metadata": {},
   "outputs": [],
   "source": [
    "len(genes)\n",
    "\n",
    "gene = genes[0]\n",
    "\n",
    "print(gene.keys())\n",
    "print(gene['locus'])\n",
    "# gene['sequence']\n",
    "\n",
    "gene['dblink']\n",
    "\n"
   ]
  },
  {
   "cell_type": "code",
   "execution_count": null,
   "metadata": {},
   "outputs": [],
   "source": [
    "# gene['features']"
   ]
  }
 ],
 "metadata": {
  "kernelspec": {
   "display_name": "Python 3.9.13 64-bit",
   "language": "python",
   "name": "python3"
  },
  "language_info": {
   "codemirror_mode": {
    "name": "ipython",
    "version": 3
   },
   "file_extension": ".py",
   "mimetype": "text/x-python",
   "name": "python",
   "nbconvert_exporter": "python",
   "pygments_lexer": "ipython3",
   "version": "3.9.13"
  },
  "orig_nbformat": 4,
  "vscode": {
   "interpreter": {
    "hash": "b0fa6594d8f4cbf19f97940f81e996739fb7646882a419484c72d19e05852a7e"
   }
  }
 },
 "nbformat": 4,
 "nbformat_minor": 2
}
