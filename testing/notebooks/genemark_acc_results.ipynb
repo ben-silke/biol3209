{
 "cells": [
  {
   "cell_type": "code",
   "execution_count": null,
   "metadata": {},
   "outputs": [],
   "source": [
    "import os\n",
    "os.chdir('../')\n"
   ]
  },
  {
   "cell_type": "code",
   "execution_count": null,
   "metadata": {},
   "outputs": [],
   "source": [
    "print(os.listdir())\n",
    "files = [f'results/genemark/{f}' for f in os.listdir('results/genemark')]\n",
    "import csv"
   ]
  },
  {
   "cell_type": "code",
   "execution_count": null,
   "metadata": {},
   "outputs": [],
   "source": [
    "files\n",
    "results = []\n",
    "print('NC_000913' in files)\n",
    "# files = ['NC_000913']\n",
    "\n",
    "for file in files:\n",
    "    \n",
    "    with open(file) as f:\n",
    "        # print(file=='NC_000913')\n",
    "        rows = csv.reader(f)\n",
    "        for row in rows:\n",
    "            if len(row) > 1:\n",
    "                if row[0] == 'correct':\n",
    "                    # print(row)\n",
    "                    try:\n",
    "                        results.append(int(row[1])/int(row[3]))\n",
    "                    except:\n",
    "                        print(row)\n",
    "\n",
    "                # if file == 'NC_000913':\n",
    "                    # print(row)"
   ]
  },
  {
   "cell_type": "code",
   "execution_count": null,
   "metadata": {},
   "outputs": [],
   "source": [
    "print(results)\n",
    "gene_mark_list = results"
   ]
  },
  {
   "cell_type": "code",
   "execution_count": null,
   "metadata": {},
   "outputs": [],
   "source": [
    "import numpy as np\n",
    "import matplotlib.pyplot as plt"
   ]
  },
  {
   "cell_type": "code",
   "execution_count": null,
   "metadata": {},
   "outputs": [],
   "source": [
    "arr = np.array(results)"
   ]
  },
  {
   "cell_type": "code",
   "execution_count": null,
   "metadata": {},
   "outputs": [],
   "source": [
    "arr.mean()"
   ]
  },
  {
   "cell_type": "code",
   "execution_count": null,
   "metadata": {},
   "outputs": [],
   "source": [
    "plt.hist(arr,bins=14)\n",
    "plt.title('Histogram of accuracy of gene identification using Genemark2S')\n",
    "\n",
    "plt.xlabel('Gene identification accuracy')\n",
    "plt.ylabel('Count of total sequence gene accuracy')\n",
    "\n",
    "\n",
    "# plt.text(0.04, 3, r'$\\mu=0.020531$')\n"
   ]
  },
  {
   "cell_type": "code",
   "execution_count": null,
   "metadata": {},
   "outputs": [],
   "source": [
    "import seaborn as sns\n"
   ]
  },
  {
   "cell_type": "code",
   "execution_count": null,
   "metadata": {},
   "outputs": [],
   "source": [
    "genemark_data = arr\n",
    "print(arr.mean())\n",
    "\n",
    "figure = sns.histplot(\n",
    "    data=genemark_data,\n",
    "    # xlabel=\"exact_matches_per_sequence\",\n",
    "    bins=50,\n",
    "    element=\"poly\",\n",
    "    # y='Sequence Counts'\n",
    ")\n",
    "\n",
    "# figure.set_axis_labels('')\n",
    "figure.set(\n",
    "    xlabel='Proportion of exact matches of gene coordinates'\n",
    ")\n",
    "# figure.text(0.4, 30, r'$\\hat \\mu=0.1967$')\n",
    "\n",
    "# figure.text(0.8, 10, r'$\\it{E. coli}$')\n"
   ]
  },
  {
   "cell_type": "code",
   "execution_count": null,
   "metadata": {},
   "outputs": [],
   "source": [
    "prodigal_data = []\n",
    "files = [f.split('_genemark')[0] for f in os.listdir('results/genemark')]\n",
    "print(files)\n",
    "len(files)\n",
    "\n"
   ]
  },
  {
   "cell_type": "code",
   "execution_count": null,
   "metadata": {},
   "outputs": [],
   "source": [
    "file = 'results/prodigal_overall.csv'\n",
    "\n",
    "results = []\n",
    "\n",
    "with open(file) as file:\n",
    "    reader = csv.reader(file)\n",
    "    \n",
    "    for row in reader:\n",
    "        # print(row)\n",
    "        if row[0] in files:\n",
    "            try:\n",
    "                val = int(row[1])/int(row[2])\n",
    "                results.append(val)\n",
    "            except:\n",
    "                print(f'fail {row=}')\n",
    "                # print(row)\n",
    "\n",
    "prodigal_data = results\n",
    "\n",
    "print(f'{len(prodigal_data)=}')\n",
    "print(f'{len(genemark_data)=}')"
   ]
  },
  {
   "cell_type": "code",
   "execution_count": null,
   "metadata": {},
   "outputs": [],
   "source": [
    "pr = np.array(prodigal_data)\n",
    "print(pr.mean())\n",
    "len(pr)\n"
   ]
  },
  {
   "cell_type": "code",
   "execution_count": null,
   "metadata": {},
   "outputs": [],
   "source": [
    "import pandas as p\n",
    "\n",
    "d = {\n",
    "    'Program': ['Genemark2S' for i in range(len(gene_mark_list))] + ['Prodigal' for i in range(len(gene_mark_list))],\n",
    "    # 'data': ['genemark' for i in range(len(gene_mark_list))] + ['prodigal' for i in range(len(gene_mark_list))],\n",
    "    'data': gene_mark_list + prodigal_data\n",
    "}\n",
    "df = p.DataFrame(data=d)"
   ]
  },
  {
   "cell_type": "code",
   "execution_count": null,
   "metadata": {},
   "outputs": [],
   "source": [
    "# p = np.array(prodigal_data)\n",
    "# g = np.array(gene_mark_list)"
   ]
  },
  {
   "cell_type": "code",
   "execution_count": null,
   "metadata": {},
   "outputs": [],
   "source": [
    "# df\n",
    "print(pr.mean())\n",
    "print(genemark_data.mean())"
   ]
  },
  {
   "cell_type": "code",
   "execution_count": null,
   "metadata": {},
   "outputs": [],
   "source": [
    "fig = sns.histplot(data=df, hue=\"Program\", x='data', element=\"poly\")\n",
    "\n",
    "fig.set(\n",
    "    xlabel='Proportion of exact matches of gene coordinates'\n",
    ")\n",
    "\n",
    "# plt.text(0.04, 3, r'$\\mu=0.020531$')\n",
    "fig.text(0.4, 17, r' $\\hat \\mu _{genemark2s}=0.191$')\n",
    "fig.text(0.4, 20, r' $\\hat \\mu_{prodigal}=0.193$')\n",
    "\n",
    "fig.annotate(r'$\\it{E. coli}$', xy=(0.9, 2), xytext=(\n",
    "    0.8, 20), arrowprops=dict(facecolor='blue', arrowstyle='->'))\n",
    "\n",
    "fig.annotate('Better', xy=(0.8, 30), xytext=(\n",
    "    0.6, 30), arrowprops=dict(facecolor='green', arrowstyle='->'))\n"
   ]
  },
  {
   "cell_type": "code",
   "execution_count": null,
   "metadata": {},
   "outputs": [],
   "source": [
    "print('NC_000913' in files)"
   ]
  }
 ],
 "metadata": {
  "interpreter": {
   "hash": "d8c0ad78633a8b43965fe5f8bc8a2da663397bf1cf3d05244bf937683be8c88a"
  },
  "kernelspec": {
   "display_name": "Python 3.9.12 ('base')",
   "language": "python",
   "name": "python3"
  },
  "language_info": {
   "codemirror_mode": {
    "name": "ipython",
    "version": 3
   },
   "file_extension": ".py",
   "mimetype": "text/x-python",
   "name": "python",
   "nbconvert_exporter": "python",
   "pygments_lexer": "ipython3",
   "version": "3.9.12"
  },
  "orig_nbformat": 4
 },
 "nbformat": 4,
 "nbformat_minor": 2
}
