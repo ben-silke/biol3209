{
 "cells": [
  {
   "cell_type": "markdown",
   "metadata": {},
   "source": [
    "unsupervised encoding has issues because it requires a lot of data\n",
    "\n",
    "composition is better\n",
    "g/c;\n",
    "small k frequencies\n",
    "\n",
    "best reciprocal hit\n"
   ]
  },
  {
   "cell_type": "markdown",
   "metadata": {},
   "source": [
    "# issues with orthologs\n",
    "orthologs originated from speciation; therefore they can be traced. However, this means that it is important to regard the same gene in the ancestor genome.\n",
    "\n",
    "The definition of orthologs is dependent on the genes which are associated."
   ]
  },
  {
   "cell_type": "markdown",
   "metadata": {},
   "source": [
    "# soil;\n",
    "\n",
    "what gene belongs to which species? this is a fundamental issue\n",
    "for a metagenomic sample this is more complex.\n",
    "\n",
    "all vs all pairwise alignment\n",
    "\n",
    "talk about other ways where "
   ]
  }
 ],
 "metadata": {
  "kernelspec": {
   "display_name": "Python 3.10.6 64-bit",
   "language": "python",
   "name": "python3"
  },
  "language_info": {
   "name": "python",
   "version": "3.10.6"
  },
  "orig_nbformat": 4,
  "vscode": {
   "interpreter": {
    "hash": "b0fa6594d8f4cbf19f97940f81e996739fb7646882a419484c72d19e05852a7e"
   }
  }
 },
 "nbformat": 4,
 "nbformat_minor": 2
}
