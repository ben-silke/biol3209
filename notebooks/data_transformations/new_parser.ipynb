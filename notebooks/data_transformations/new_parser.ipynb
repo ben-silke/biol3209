{
 "cells": [
  {
   "cell_type": "code",
   "execution_count": 2,
   "metadata": {},
   "outputs": [],
   "source": [
    "import os\n",
    "\n",
    "os.chdir(\"/Users/bensilke/gavins-lab/biol3209/\")\n",
    "\n",
    "d = 'data/soil_reference_genomes/'\n",
    "files = [\n",
    "    os.path.join(d, f) for f in os.listdir(d) if os.path.isfile(os.path.join(d, f))\n",
    "]\n",
    "\n",
    "file = files[0]"
   ]
  },
  {
   "cell_type": "code",
   "execution_count": 3,
   "metadata": {},
   "outputs": [
    {
     "name": "stdout",
     "output_type": "stream",
     "text": [
      "['.DS_Store', 'LICENSE', '.pre-commit-config.yaml', 'pyproject.toml', 'tests', 'README.md', '.gitignore', '.git', 'data', 'notebooks', 'src']\n"
     ]
    },
    {
     "ename": "AttributeError",
     "evalue": "'GenbankParser' object has no attribute 'parse'",
     "output_type": "error",
     "traceback": [
      "\u001b[0;31m---------------------------------------------------------------------------\u001b[0m",
      "\u001b[0;31mAttributeError\u001b[0m                            Traceback (most recent call last)",
      "\u001b[1;32m/Users/bensilke/gavins-lab/biol3209/notebooks/data_transformations/new_parser.ipynb Cell 2\u001b[0m in \u001b[0;36m<cell line: 5>\u001b[0;34m()\u001b[0m\n\u001b[1;32m      <a href='vscode-notebook-cell:/Users/bensilke/gavins-lab/biol3209/notebooks/data_transformations/new_parser.ipynb#W1sZmlsZQ%3D%3D?line=3'>4</a>\u001b[0m genes \u001b[39m=\u001b[39m []\n\u001b[1;32m      <a href='vscode-notebook-cell:/Users/bensilke/gavins-lab/biol3209/notebooks/data_transformations/new_parser.ipynb#W1sZmlsZQ%3D%3D?line=4'>5</a>\u001b[0m \u001b[39mwith\u001b[39;00m \u001b[39mopen\u001b[39m(file) \u001b[39mas\u001b[39;00m f:\n\u001b[0;32m----> <a href='vscode-notebook-cell:/Users/bensilke/gavins-lab/biol3209/notebooks/data_transformations/new_parser.ipynb#W1sZmlsZQ%3D%3D?line=5'>6</a>\u001b[0m     parser \u001b[39m=\u001b[39m GenbankParser(file\u001b[39m=\u001b[39;49mf)\u001b[39m.\u001b[39;49mparse()\n\u001b[1;32m      <a href='vscode-notebook-cell:/Users/bensilke/gavins-lab/biol3209/notebooks/data_transformations/new_parser.ipynb#W1sZmlsZQ%3D%3D?line=6'>7</a>\u001b[0m     \u001b[39mprint\u001b[39m(parser)\n\u001b[1;32m      <a href='vscode-notebook-cell:/Users/bensilke/gavins-lab/biol3209/notebooks/data_transformations/new_parser.ipynb#W1sZmlsZQ%3D%3D?line=7'>8</a>\u001b[0m     \u001b[39mfor\u001b[39;00m p \u001b[39min\u001b[39;00m parser:\n",
      "\u001b[0;31mAttributeError\u001b[0m: 'GenbankParser' object has no attribute 'parse'"
     ]
    }
   ],
   "source": [
    "\n",
    "from src.genetifinder.parsers.genbank_parser import GenbankParser\n",
    "genes = []\n",
    "with open(file) as f:\n",
    "    parser = GenbankParser(file=f).parser()\n",
    "    print(parser)\n",
    "    for p in parser:\n",
    "        genes.append(p)\n",
    "\n",
    "\n",
    "\n",
    "print(type(genes))\n",
    "print(len(genes))\n",
    "gene = genes[0]\n",
    "\n",
    "print(type(gene))\n",
    "print(gene.keys())\n",
    "\n"
   ]
  },
  {
   "cell_type": "code",
   "execution_count": null,
   "metadata": {},
   "outputs": [],
   "source": []
  }
 ],
 "metadata": {
  "kernelspec": {
   "display_name": "Python 3.9.12 ('cvenv')",
   "language": "python",
   "name": "python3"
  },
  "language_info": {
   "codemirror_mode": {
    "name": "ipython",
    "version": 3
   },
   "file_extension": ".py",
   "mimetype": "text/x-python",
   "name": "python",
   "nbconvert_exporter": "python",
   "pygments_lexer": "ipython3",
   "version": "3.9.12"
  },
  "orig_nbformat": 4,
  "vscode": {
   "interpreter": {
    "hash": "16345f430711b1aa0a5c58ec7fbbf9d18a721ef97e9ee9959337f4d5dd6efc69"
   }
  }
 },
 "nbformat": 4,
 "nbformat_minor": 2
}
