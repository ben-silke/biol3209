{
 "cells": [
  {
   "cell_type": "code",
   "execution_count": null,
   "metadata": {},
   "outputs": [],
   "source": [
    "import csv\n",
    "folder = 'data/summary_stats'\n",
    "import os\n",
    "print(os.listdir())\n",
    "os.chdir('../../')\n"
   ]
  },
  {
   "cell_type": "code",
   "execution_count": null,
   "metadata": {},
   "outputs": [],
   "source": [
    "\n",
    "counts_file = folder+'/high_counts_stats.csv'\n",
    "count_dict = {}\n",
    "counts = []\n",
    "with open(counts_file) as f:\n",
    "    reader = csv.reader(f)\n",
    "    for row in reader:\n",
    "        count = row[1]\n",
    "        try:\n",
    "            count = int(row[1])\n",
    "            if count > 1:\n",
    "                counts.append(row)\n",
    "                count_dict[row[0]] = int(row[1])\n",
    "\n",
    "        except:\n",
    "            counts.append(row)"
   ]
  },
  {
   "cell_type": "code",
   "execution_count": null,
   "metadata": {},
   "outputs": [],
   "source": [
    "\n",
    "gene_sorted_dict = sorted(count_dict.items(), key = lambda x: x[1], reverse=True)\n"
   ]
  },
  {
   "cell_type": "code",
   "execution_count": null,
   "metadata": {},
   "outputs": [],
   "source": [
    "gene_sorted_dict\n",
    "len(sorted_dict)"
   ]
  },
  {
   "cell_type": "markdown",
   "metadata": {},
   "source": [
    "This is a good sample of the top end\n",
    "\n",
    "(\"['dnaA']\", 352),\n",
    " (\"['dnaN']\", 270),\n",
    " (\"['recF']\", 188),\n",
    " (\"['gyrB']\", 143),\n",
    " (\"['yaaA']\", 67),\n",
    " (\"['gyrA']\", 35),\n",
    " (\"['gnd']\", 24),\n",
    " (\"['thrA']\", 17),\n",
    " (\"['thrC']\", 17),\n",
    " (\"['thrB']\", 17),\n",
    " (\"['thrL']\", 16),\n",
    " (\"['mioC']\", 12),\n",
    " (\"['yidA']\", 11),\n",
    " (\"['ravA']\", 10),\n",
    " (\"['asnC']\", 10),\n",
    " (\"['viaA']\", 10),\n",
    " (\"['kup']\", 10),\n",
    " (\"['rpmH']\", 8),\n",
    " (\"['rnpA']\", 7),\n",
    " (\"['yidD']\", 6),\n",
    " (\"['obgE']\", 6),\n",
    " (\"['mnmG']\", 6),\n",
    " (\"['rpsT']\", 6),\n",
    " (\"['yaaI']\", 6),\n",
    " (\"['mog']\", 5),"
   ]
  },
  {
   "cell_type": "code",
   "execution_count": null,
   "metadata": {},
   "outputs": [],
   "source": [
    "counts_file = folder+'/high_cds_counts_stats.csv'\n",
    "count_dict = {}\n",
    "counts = []\n",
    "with open(counts_file) as f:\n",
    "    reader = csv.reader(f)\n",
    "    for row in reader:\n",
    "        count = row[1]\n",
    "        try:\n",
    "            count = int(row[1])\n",
    "            if count > 1:\n",
    "                counts.append(row)\n",
    "                count_dict[row[0]] = int(row[1])\n",
    "\n",
    "        except:\n",
    "            counts.append(row)"
   ]
  },
  {
   "cell_type": "code",
   "execution_count": null,
   "metadata": {},
   "outputs": [],
   "source": [
    "cds_sorted_dict = sorted(count_dict.items(), key = lambda x: x[1], reverse=True)\n"
   ]
  },
  {
   "cell_type": "code",
   "execution_count": null,
   "metadata": {},
   "outputs": [],
   "source": [
    "cds_sorted_dict\n",
    "len(cds_sorted_dict)"
   ]
  }
 ],
 "metadata": {
  "kernelspec": {
   "display_name": "Python 3.9.12 ('cvenv')",
   "language": "python",
   "name": "python3"
  },
  "language_info": {
   "codemirror_mode": {
    "name": "ipython",
    "version": 3
   },
   "file_extension": ".py",
   "mimetype": "text/x-python",
   "name": "python",
   "nbconvert_exporter": "python",
   "pygments_lexer": "ipython3",
   "version": "3.9.12"
  },
  "orig_nbformat": 4,
  "vscode": {
   "interpreter": {
    "hash": "16345f430711b1aa0a5c58ec7fbbf9d18a721ef97e9ee9959337f4d5dd6efc69"
   }
  }
 },
 "nbformat": 4,
 "nbformat_minor": 2
}
