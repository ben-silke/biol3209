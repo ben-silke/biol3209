{
 "cells": [
  {
   "cell_type": "code",
   "execution_count": 2,
   "metadata": {},
   "outputs": [],
   "source": [
    "import os\n",
    "\n",
    "os.chdir(\"/Users/bensilke/gavins-lab/biol3209/\")\n",
    "\n",
    "d = 'data/soil_reference_genomes/'\n",
    "files = [\n",
    "    os.path.join(d, f) for f in os.listdir(d) if os.path.isfile(os.path.join(d, f))\n",
    "]\n",
    "\n",
    "file = files[0]"
   ]
  },
  {
   "cell_type": "code",
   "execution_count": 4,
   "metadata": {},
   "outputs": [
    {
     "name": "stdout",
     "output_type": "stream",
     "text": [
      "<generator object GenbankParser.parser at 0x7fbe0155c430>\n",
      "field=['LOCUS       NC_010572            8545929 bp    DNA     linear   CON 20-MAR-2022']\n",
      "field=['DEFINITION  Streptomyces griseus subsp. griseus NBRC 13350, complete sequence.']\n",
      "<class 'list'>\n",
      "0\n"
     ]
    },
    {
     "ename": "IndexError",
     "evalue": "list index out of range",
     "output_type": "error",
     "traceback": [
      "\u001b[0;31m---------------------------------------------------------------------------\u001b[0m",
      "\u001b[0;31mIndexError\u001b[0m                                Traceback (most recent call last)",
      "\u001b[1;32m/Users/bensilke/gavins-lab/biol3209/notebooks/data_transformations/new_parser.ipynb Cell 2\u001b[0m in \u001b[0;36m<cell line: 13>\u001b[0;34m()\u001b[0m\n\u001b[1;32m     <a href='vscode-notebook-cell:/Users/bensilke/gavins-lab/biol3209/notebooks/data_transformations/new_parser.ipynb#W1sZmlsZQ%3D%3D?line=10'>11</a>\u001b[0m \u001b[39mprint\u001b[39m(\u001b[39mtype\u001b[39m(genes))\n\u001b[1;32m     <a href='vscode-notebook-cell:/Users/bensilke/gavins-lab/biol3209/notebooks/data_transformations/new_parser.ipynb#W1sZmlsZQ%3D%3D?line=11'>12</a>\u001b[0m \u001b[39mprint\u001b[39m(\u001b[39mlen\u001b[39m(genes))\n\u001b[0;32m---> <a href='vscode-notebook-cell:/Users/bensilke/gavins-lab/biol3209/notebooks/data_transformations/new_parser.ipynb#W1sZmlsZQ%3D%3D?line=12'>13</a>\u001b[0m gene \u001b[39m=\u001b[39m genes[\u001b[39m0\u001b[39;49m]\n\u001b[1;32m     <a href='vscode-notebook-cell:/Users/bensilke/gavins-lab/biol3209/notebooks/data_transformations/new_parser.ipynb#W1sZmlsZQ%3D%3D?line=14'>15</a>\u001b[0m \u001b[39mprint\u001b[39m(\u001b[39mtype\u001b[39m(gene))\n\u001b[1;32m     <a href='vscode-notebook-cell:/Users/bensilke/gavins-lab/biol3209/notebooks/data_transformations/new_parser.ipynb#W1sZmlsZQ%3D%3D?line=15'>16</a>\u001b[0m \u001b[39mprint\u001b[39m(gene\u001b[39m.\u001b[39mkeys())\n",
      "\u001b[0;31mIndexError\u001b[0m: list index out of range"
     ]
    }
   ],
   "source": [
    "\n",
    "from src.genetifinder.parsers.genbank_parser import GenbankParser\n",
    "genes = []\n",
    "with open(file) as f:\n",
    "    parser = GenbankParser(file=f).parser()\n",
    "    print(parser)\n",
    "    for p in parser:\n",
    "        genes.append(p)\n",
    "\n",
    "\n",
    "\n",
    "print(type(genes))\n",
    "print(len(genes))\n",
    "gene = genes[0]\n",
    "\n",
    "print(type(gene))\n",
    "print(gene.keys())\n",
    "\n"
   ]
  },
  {
   "cell_type": "code",
   "execution_count": null,
   "metadata": {},
   "outputs": [],
   "source": []
  }
 ],
 "metadata": {
  "kernelspec": {
   "display_name": "Python 3.9.12 ('cvenv')",
   "language": "python",
   "name": "python3"
  },
  "language_info": {
   "codemirror_mode": {
    "name": "ipython",
    "version": 3
   },
   "file_extension": ".py",
   "mimetype": "text/x-python",
   "name": "python",
   "nbconvert_exporter": "python",
   "pygments_lexer": "ipython3",
   "version": "3.9.12"
  },
  "orig_nbformat": 4,
  "vscode": {
   "interpreter": {
    "hash": "16345f430711b1aa0a5c58ec7fbbf9d18a721ef97e9ee9959337f4d5dd6efc69"
   }
  }
 },
 "nbformat": 4,
 "nbformat_minor": 2
}
