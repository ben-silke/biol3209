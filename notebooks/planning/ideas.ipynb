{
 "cells": [
  {
   "cell_type": "markdown",
   "metadata": {},
   "source": [
    "\n",
    "# Why is there a problem?\n",
    "Answering all these is your justification for doing the work and, at the very least, should make you comfortable you may be doing something worthwhile.\n",
    "\n",
    "\n",
    "Seems like there are two different problems:\n",
    "1. Finding a set of genes/ orthologs from a metagenomic sample\n",
    "2. finding the orthologs\n",
    "\n",
    "\n",
    "\n",
    "### Why does the problem even exist? \n",
    "\n",
    "What is metagenomics?\n",
    "Why is metagenomics important?\n",
    "\n",
    "What insights can we gain from a large sample of DNA\n",
    "\n",
    "\n",
    "### Why hasn’t it already been solved? \n",
    "#### BLAST\n",
    "BLAST allows one to one comparison however this complexity of this is great and a batch run on a large sample is not so effective. Is it possible to narrow the possibilities and then feed them to blast? A blast wrapper of sorts which can be used to minimie the operations which the BLAST search must undertake.\n"
   ]
  },
  {
   "cell_type": "markdown",
   "metadata": {},
   "source": [
    "# Examples of current solutions\n",
    "\n",
    "Questions to answer / points to consider:\n",
    "What is the evidence the solutions are inadequate? (That evidence can be measurement, or a theoretical property.)\n",
    "The prior work was likely developed against different technological inputs 2.\n",
    "Much of the information available to us now may not have been known to the authors of the original work.\n",
    "\n",
    "## JustOrthologs:\n",
    "### algorthim.\n",
    "Just orthologs first looks for all the CDS's within the sample which are the exact same length. Then JustOrthologs looks to compare the CDS's to each other through the dinucleotide ratio's between the different CDS's.\n",
    "\n",
    "1. This has the potential that a large number of false negatives are found. What is the actual likelihood that the CDS regions are of the exact same length? Therefore the sample space is decreased rapidly and very significantly. Proteins may differ in size by 5-10 amin acids; there 15-30 bps. This means that this restriction may simply be too much.\n",
    "2. The amino acid ratio may not take into account the bp content of different species. Some species may be more GC rich and therefore could be additionally excluded in this calculation.\n",
    "3. A dinucleotide ratio does not acutally inform the protein content. The redundancy of the genetic code means it may be better to determine proteins based upon the actual amino acid produced by a codon.\n",
    "4. The program does not appear to take into account the fact the direction of the sequence upon entry. In true metagenomic samples; the direction of the sequence is unknown. In other words; which sample is actually being looked at. This can affect the ratio. E.g. is TA a true TA or is it an AT from another direction?\n",
    "    4.1. This acutally may be considered because there are 16 dinucleotides which are used.\n",
    "5. The program does not seem to take into account rRNA or tRNA genes.\n",
    "    5.1. I expect that these are regions which are CDS (ATG-...-TAG) but it does not seem to pick up. The alternative is that the program uses prior annotated sequenes. This also represents issues because then you have to manuall annotate the sequences.\n"
   ]
  },
  {
   "cell_type": "code",
   "execution_count": 6,
   "metadata": {},
   "outputs": [
    {
     "name": "stdout",
     "output_type": "stream",
     "text": [
      "['AT', 'AC', 'AG', 'TA', 'TC', 'TG', 'CA', 'CT', 'CG', 'GA', 'GT', 'GC']\n"
     ]
    }
   ],
   "source": [
    "import itertools\n",
    "\n",
    "perms = itertools.permutations('ATCG', 2)\n",
    "perms = [f'{perm[0]}{perm[1]}' for perm in perms]\n",
    "print(perms)"
   ]
  },
  {
   "cell_type": "markdown",
   "metadata": {},
   "source": [
    "\n",
    "# What is the problem?\n",
    "\n",
    "1. finding genes within a metagenomic sample\n",
    "2. are any of the genes found likely to be orthologs/ (related/ the same)?\n",
    "3. Should we do anything we these orthologs once they have been found.\n",
    "\n",
    "\n",
    "What is the problem you will solve? \n",
    "Try and express this as succinctly as possible. This statement may need to be updated as your knowledge of the domain increases 3. Critically, the statement must be something you can actually solve.\n",
    "\n",
    "\n",
    "# Important Questions to answer\n",
    "\n",
    "### What is a gene?\n",
    "/\n",
    "\n",
    "### What is an ortholog? Why are orthologs important?\n",
    "Othologs and paralogs are two categories of homologs. Homologs are genes which are similar due to some degree of shared ancestry.\n",
    "\n",
    "Orthologs and paralogs constitute two major types of homologs: \n",
    "\n",
    "1. Orthologs evolved from a common ancestor by speciation \n",
    "   1.1. Speciation is when two genes or organisms diverge due to external enviromental pressures. Speciation is the when two organisms begin to split and become different species.\n",
    "2. Paralogs are related by duplication events\n",
    "\n",
    "\n",
    "### What is a paralog? Why are paralogs important?\n",
    "Paralogs are related by duplication events. The two genes arise as a consequence of genetic duplication.\n",
    "Therefore; paralogs are found within the same species rather than in different species. \n",
    "\n",
    "Is it possible to determine if the overall organim is of the same sequence or if they are of a different sequence?\n",
    "\n",
    "\n",
    "### are the other defined types of relationships between genes?\n",
    "/\n",
    "\n",
    "### What is a protein - and what is the relationship between protein and gene?\n",
    "/\n",
    "\n",
    "### How to we talk about related genes/ proteins?\n",
    "/\n",
    "\n",
    "### How do we find genes / proteins in a DNA sample.\n",
    "Find CDS/ ORFs. (ATG - ... - TAG)\n",
    "\n",
    "#### Are there markers within proteins which might help us find them?\n",
    "1. Types of Amino Acid; cysteine/ histidine residues; acidic/ basic/ other FGs. \n",
    "2. Are there regions of a protein which might be similar.\n",
    "3. length of a CDS.\n",
    "\n",
    "\n",
    "\n",
    "# Inputs and Outputs?\n",
    "\n",
    "Inputs:\n",
    "1. large sampled collection of DNA from a metagenomic sample.\n",
    "\n",
    "Outputs:\n",
    "1. a list of genes found in the sample / a list of proteins found in the sample.\n",
    "2. a list of orthologs found in the sample.\n",
    "3. a list of paralogs found in the sample.\n",
    "4. a list of other relationships found in the sample.\n",
    "\n",
    "\n"
   ]
  },
  {
   "cell_type": "markdown",
   "metadata": {},
   "source": [
    "# How will you solve it?\n",
    "/\n",
    "\n",
    "### Why is it applicable to restrict the search to only bacteria/ prokaryotes?\n",
    "The problem space is decreased by this restriction. In addition; the handling of introns and exons is unnecessary. The actual determination of these might be quite complex."
   ]
  }
 ],
 "metadata": {
  "kernelspec": {
   "display_name": "Python 3.9.13 64-bit",
   "language": "python",
   "name": "python3"
  },
  "language_info": {
   "codemirror_mode": {
    "name": "ipython",
    "version": 3
   },
   "file_extension": ".py",
   "mimetype": "text/x-python",
   "name": "python",
   "nbconvert_exporter": "python",
   "pygments_lexer": "ipython3",
   "version": "3.9.13"
  },
  "orig_nbformat": 4,
  "vscode": {
   "interpreter": {
    "hash": "b0fa6594d8f4cbf19f97940f81e996739fb7646882a419484c72d19e05852a7e"
   }
  }
 },
 "nbformat": 4,
 "nbformat_minor": 2
}
