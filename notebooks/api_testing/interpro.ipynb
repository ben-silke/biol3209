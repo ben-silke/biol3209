{
 "cells": [
  {
   "cell_type": "code",
   "execution_count": null,
   "metadata": {},
   "outputs": [],
   "source": []
  },
  {
   "cell_type": "markdown",
   "metadata": {},
   "source": [
    "# Getting started\n",
    "\n",
    "https://www.ebi.ac.uk/interpro/api/\n",
    "\n",
    "no. of entries\n",
    "/api/entry\n",
    "\n",
    "unsorted list of all cdd entries\n",
    "/api/entry/cdd\n",
    "\n",
    "all entries linked to a reference - \n",
    "/api/entry/protein/uniprot/P04637\n",
    "\n",
    "This query returns a list of InterPro entries which map to Human P53 protein.\n",
    "Unsure exactly what this accession is\n",
    "/api/entry/interpro/protein/uniprot/P04637\n",
    "*This returns entries*\n",
    "\n",
    "returns a list of proteins and the location which contain a domain referenced\n",
    "/api/protein/reviewed/entry/interpro/ipr002117\n",
    "\n",
    "\n",
    "This query returns a list of organisms which have a protein which contains a match to IPR026381.\n",
    "/api/taxonomy/uniprot/entry/interpro/IPR026381\n",
    "\n",
    "\n",
    "https://github.com/ProteinsWebTeam/interpro7-api/tree/master/docs\n",
    "guide for the endpoints"
   ]
  },
  {
   "cell_type": "code",
   "execution_count": null,
   "metadata": {},
   "outputs": [],
   "source": [
    "import requests\n",
    "\n",
    "base = 'https://www.ebi.ac.uk/interpro/api/'\n",
    "\n",
    "def get_interpro_info(query, id):\n",
    "\n",
    "    response = requests.get(base+query+id)\n",
    "    assert response.status_code == 200\n",
    "    if results := response.json().get('results', None):\n",
    "        return response.json()['results']\n",
    "    else:\n",
    "        return response.json()\n",
    "    "
   ]
  },
  {
   "cell_type": "code",
   "execution_count": null,
   "metadata": {},
   "outputs": [],
   "source": [
    "get_interpro_info('entry/interpro/protein/uniprot/', 'P0AD86')\n",
    "# /gene=thrL\n"
   ]
  },
  {
   "cell_type": "code",
   "execution_count": null,
   "metadata": {},
   "outputs": [],
   "source": [
    "get_interpro_info('entry/interpro/protein/uniprot/', 'P31552')\n",
    "# /gene=\"caiC"
   ]
  },
  {
   "cell_type": "markdown",
   "metadata": {},
   "source": [
    "# Just interpro\n",
    "IPR001957\n",
    "/gene=\"dnaA\"\n",
    "/product=\"chromosomal replication initiator informational ATPase\""
   ]
  },
  {
   "cell_type": "code",
   "execution_count": null,
   "metadata": {},
   "outputs": [],
   "source": [
    "get_interpro_info('entry/interpro/', 'IPR001957')"
   ]
  },
  {
   "cell_type": "code",
   "execution_count": null,
   "metadata": {},
   "outputs": [],
   "source": [
    "get_interpro_info('entry/protein/set/', 'pfam')\n"
   ]
  }
 ],
 "metadata": {
  "kernelspec": {
   "display_name": "Python 3.9.13 64-bit",
   "language": "python",
   "name": "python3"
  },
  "language_info": {
   "codemirror_mode": {
    "name": "ipython",
    "version": 3
   },
   "file_extension": ".py",
   "mimetype": "text/x-python",
   "name": "python",
   "nbconvert_exporter": "python",
   "pygments_lexer": "ipython3",
   "version": "3.9.13"
  },
  "orig_nbformat": 4,
  "vscode": {
   "interpreter": {
    "hash": "b0fa6594d8f4cbf19f97940f81e996739fb7646882a419484c72d19e05852a7e"
   }
  }
 },
 "nbformat": 4,
 "nbformat_minor": 2
}
