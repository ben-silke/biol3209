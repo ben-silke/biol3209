{
 "cells": [
  {
   "cell_type": "code",
   "execution_count": 1,
   "metadata": {},
   "outputs": [
    {
     "ename": "FileNotFoundError",
     "evalue": "[Errno 2] No such file or directory: 'hlab:/home2/kath/mouse_microbiome/MCC-gbk_276'",
     "output_type": "error",
     "traceback": [
      "\u001b[0;31m---------------------------------------------------------------------------\u001b[0m",
      "\u001b[0;31mFileNotFoundError\u001b[0m                         Traceback (most recent call last)",
      "\u001b[1;32m/Users/bensilke/gavins-lab/biol3209/notebooks/data_transformations/file_fetching.ipynb Cell 1\u001b[0m in \u001b[0;36m<cell line: 5>\u001b[0;34m()\u001b[0m\n\u001b[1;32m      <a href='vscode-notebook-cell:/Users/bensilke/gavins-lab/biol3209/notebooks/data_transformations/file_fetching.ipynb#W0sZmlsZQ%3D%3D?line=1'>2</a>\u001b[0m lab \u001b[39m=\u001b[39m \u001b[39m\"\u001b[39m\u001b[39m/home2/kath/mouse_microbiome/MCC-gbk_276\u001b[39m\u001b[39m\"\u001b[39m\n\u001b[1;32m      <a href='vscode-notebook-cell:/Users/bensilke/gavins-lab/biol3209/notebooks/data_transformations/file_fetching.ipynb#W0sZmlsZQ%3D%3D?line=2'>3</a>\u001b[0m prefix \u001b[39m=\u001b[39m \u001b[39m\"\u001b[39m\u001b[39mhlab:\u001b[39m\u001b[39m\"\u001b[39m\n\u001b[0;32m----> <a href='vscode-notebook-cell:/Users/bensilke/gavins-lab/biol3209/notebooks/data_transformations/file_fetching.ipynb#W0sZmlsZQ%3D%3D?line=4'>5</a>\u001b[0m os\u001b[39m.\u001b[39mchdir(prefix\u001b[39m+\u001b[39mlab)\n",
      "\u001b[0;31mFileNotFoundError\u001b[0m: [Errno 2] No such file or directory: 'hlab:/home2/kath/mouse_microbiome/MCC-gbk_276'"
     ]
    }
   ],
   "source": [
    "import os\n",
    "lab = \"/home2/kath/mouse_microbiome/MCC-gbk_276\"\n",
    "prefix = \"hlab:\"\n",
    "\n",
    "os.chdir(prefix+lab) "
   ]
  }
 ],
 "metadata": {
  "kernelspec": {
   "display_name": "Python 3.9.13 64-bit",
   "language": "python",
   "name": "python3"
  },
  "language_info": {
   "codemirror_mode": {
    "name": "ipython",
    "version": 3
   },
   "file_extension": ".py",
   "mimetype": "text/x-python",
   "name": "python",
   "nbconvert_exporter": "python",
   "pygments_lexer": "ipython3",
   "version": "3.9.13"
  },
  "orig_nbformat": 4,
  "vscode": {
   "interpreter": {
    "hash": "b0fa6594d8f4cbf19f97940f81e996739fb7646882a419484c72d19e05852a7e"
   }
  }
 },
 "nbformat": 4,
 "nbformat_minor": 2
}
