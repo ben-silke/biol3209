{
 "cells": [
  {
   "cell_type": "code",
   "execution_count": 1,
   "metadata": {},
   "outputs": [],
   "source": [
    "import os\n",
    "os.chdir('../../')\n"
   ]
  },
  {
   "cell_type": "code",
   "execution_count": 2,
   "metadata": {},
   "outputs": [],
   "source": [
    "import requests\n",
    "base = 'https://rest.kegg.jp/'\n",
    "convert = 'conv/'\n",
    "geneid = 'genes/ncbi-geneid:'\n",
    "uniprot = 'genes/uniprot:'\n"
   ]
  },
  {
   "cell_type": "code",
   "execution_count": 3,
   "metadata": {},
   "outputs": [],
   "source": [
    "import csv\n",
    "file = 'data/summary_stats/database_references.csv'\n"
   ]
  },
  {
   "cell_type": "code",
   "execution_count": 4,
   "metadata": {},
   "outputs": [
    {
     "name": "stdout",
     "output_type": "stream",
     "text": [
      "https://rest.kegg.jp/conv/genes/ncbi-geneid:45123506\n",
      "200\n",
      "https://rest.kegg.jp/conv/genes/uniprot:P0AAA3\n",
      "200\n"
     ]
    }
   ],
   "source": [
    "ncbi_response =requests.get(base+convert+geneid+'45123506')\n",
    "print(ncbi_response.url)\n",
    "print(ncbi_response.status_code)\n",
    "up_response = requests.get(base+convert+uniprot+'P0AAA3')\n",
    "print(up_response.url)\n",
    "print(up_response.status_code)"
   ]
  },
  {
   "cell_type": "code",
   "execution_count": null,
   "metadata": {},
   "outputs": [],
   "source": [
    "print(ncbi_response.text)"
   ]
  },
  {
   "cell_type": "code",
   "execution_count": 5,
   "metadata": {},
   "outputs": [
    {
     "name": "stdout",
     "output_type": "stream",
     "text": [
      "up:P0AAA3\teco:b0293\n",
      "up:P0AAA3\tecj:JW0287\n",
      "\n",
      "<class 'str'>\n"
     ]
    },
    {
     "data": {
      "text/plain": [
       "'eco:b0293'"
      ]
     },
     "execution_count": 5,
     "metadata": {},
     "output_type": "execute_result"
    }
   ],
   "source": [
    "print(up_response.text)\n",
    "text_uresponse = up_response.text\n",
    "print(type(text_uresponse))\n",
    "ls = text_uresponse.split('\\n')[0]\n",
    "ls = ls.split('\\t')[1]\n",
    "ls"
   ]
  },
  {
   "cell_type": "code",
   "execution_count": 6,
   "metadata": {},
   "outputs": [],
   "source": [
    "get = 'get/'\n",
    "\n",
    "got = requests.get(base+get+'eco:b0293')"
   ]
  },
  {
   "cell_type": "code",
   "execution_count": 7,
   "metadata": {},
   "outputs": [
    {
     "name": "stdout",
     "output_type": "stream",
     "text": [
      "ENTRY       b0293             CDS       T00007\n",
      "SYMBOL      ecpA\n",
      "NAME        (RefSeq) common pilus major subunit\n",
      "ORTHOLOGY   K21964  Mat/Ecp fimbriae major subunit\n",
      "ORGANISM    eco  Escherichia coli K-12 MG1655\n",
      "BRITE       KEGG Orthology (KO) [BR:eco00001]\n",
      "             09180 Brite Hierarchies\n",
      "              09183 Protein families: signaling and cellular processes\n",
      "               02044 Secretion system [BR:eco02044]\n",
      "                b0293 (ecpA)\n",
      "            Secretion system [BR:eco02044]\n",
      "             Chaperone-usher system\n",
      "              Mat/Ecp fimbriae assembly protein\n",
      "               b0293 (ecpA)\n",
      "POSITION    complement(310084..310671)\n",
      "MOTIF       Pfam: MatB\n",
      "DBLINKS     NCBI-GeneID: 948759\n",
      "            NCBI-ProteinID: NP_414827\n",
      "            Pasteur: yagZ\n",
      "            RegulonDB: ECK120002784\n",
      "            ECOCYC: G6164\n",
      "            ASAP: ABE-0001009\n",
      "            UniProt: P0AAA3\n",
      "AASEQ       195\n",
      "            MKKKVLAIALVTVFTGMGVAQAADVTAQAVATWSATAKKDTTSKLVVTPLGSLAFQYAEG\n",
      "            IKGFNSQKGLFDVAIEGDSTATAFKLTSRLITNTLTQLDTSGSTLNVGVDYNGAAVEKTG\n",
      "            DTVMIDTANGVLGGNLSPLANGYNASNRTTAQDGFTFSIISGTTNGTTAVTDYSTLPEGI\n",
      "            WSGDVSVQFDATWTS\n",
      "NTSEQ       588\n",
      "            atgaaaaaaaaggttctggcaatagctctggtaacggtgtttaccggcatgggtgtggcg\n",
      "            caggctgctgacgtaacagctcaggctgtagcgacctggtcggcaacagccaaaaaagac\n",
      "            accaccagtaagctggttgtgacgccactcggtagcctggcgttccagtatgccgaaggc\n",
      "            attaaaggttttaactcacagaaaggtctatttgacgtggctatcgagggtgactcaacg\n",
      "            gctaccgcctttaaactgacctcacgtcttatcaccaacacattaacccagttggatacc\n",
      "            tcaggttccacactgaatgtgggcgtggattataacggcgcggcagtcgaaaaaactggc\n",
      "            gataccgtgatgatcgataccgccaacggcgtactgggcggcaaccttagcccgctggct\n",
      "            aacggttacaatgccagcaatcgtaccaccgcacaggatggtttcaccttctccatcatc\n",
      "            agcggtaccaccaatggtaccaccgcagtaacagattacagcactctaccggaaggcatc\n",
      "            tggagcggcgacgttagcgtacagttcgacgcgacctggaccagttaa\n",
      "///\n",
      "\n"
     ]
    }
   ],
   "source": [
    "print(got.text)"
   ]
  }
 ],
 "metadata": {
  "kernelspec": {
   "display_name": "Python 3.9.12 ('cvenv')",
   "language": "python",
   "name": "python3"
  },
  "language_info": {
   "codemirror_mode": {
    "name": "ipython",
    "version": 3
   },
   "file_extension": ".py",
   "mimetype": "text/x-python",
   "name": "python",
   "nbconvert_exporter": "python",
   "pygments_lexer": "ipython3",
   "version": "3.9.12"
  },
  "orig_nbformat": 4,
  "vscode": {
   "interpreter": {
    "hash": "16345f430711b1aa0a5c58ec7fbbf9d18a721ef97e9ee9959337f4d5dd6efc69"
   }
  }
 },
 "nbformat": 4,
 "nbformat_minor": 2
}
