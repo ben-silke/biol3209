{
 "cells": [
  {
   "cell_type": "code",
   "execution_count": null,
   "metadata": {},
   "outputs": [],
   "source": [
    "import os\n",
    "os.chdir('../')\n",
    "os.listdir()\n",
    "import csv"
   ]
  },
  {
   "cell_type": "code",
   "execution_count": null,
   "metadata": {},
   "outputs": [],
   "source": [
    "file = 'results/prodigal_overall.csv'\n",
    "\n",
    "results = []\n",
    "\n",
    "with open(file) as file:\n",
    "    reader = csv.reader(file)\n",
    "    for row in reader:\n",
    "        try:\n",
    "            val = int(row[1])/int(row[2])\n",
    "            results.append(val)\n",
    "        except:\n",
    "            print(f'fail {row=}')\n",
    "            # print(row)\n",
    "    "
   ]
  },
  {
   "cell_type": "code",
   "execution_count": null,
   "metadata": {},
   "outputs": [],
   "source": [
    "# print(results)\n",
    "import seaborn as sns\n",
    "import matplotlib.pyplot as plt\n",
    "import numpy as np\n"
   ]
  },
  {
   "cell_type": "code",
   "execution_count": null,
   "metadata": {},
   "outputs": [],
   "source": [
    "arr = np.array(results)"
   ]
  },
  {
   "cell_type": "code",
   "execution_count": null,
   "metadata": {},
   "outputs": [],
   "source": [
    "arr.mean()"
   ]
  },
  {
   "cell_type": "code",
   "execution_count": null,
   "metadata": {},
   "outputs": [],
   "source": [
    "import seaborn as sns"
   ]
  },
  {
   "cell_type": "code",
   "execution_count": null,
   "metadata": {},
   "outputs": [],
   "source": [
    "# plt.hist(arr, bins=50)\n",
    "# plt.xlabel('Proportion of exact matches of gene start and end locations per sequence')\n",
    "# plt.ylabel('Sequence Counts')\n",
    "# # plt.title('Histogram of sequence gene identification accuracy using prodigal')\n",
    "# # plt.text(0.7, 150, f')\n",
    "\n",
    "# plt.text(0.4, 30, r'$\\hat \\mu=0.1967$')\n"
   ]
  },
  {
   "cell_type": "code",
   "execution_count": null,
   "metadata": {},
   "outputs": [],
   "source": [
    "prodigal_data = arr\n",
    "\n",
    "figure = sns.histplot(\n",
    "    data=prodigal_data,\n",
    "    # xlabel=\"exact_matches_per_sequence\",\n",
    "    bins=50, \n",
    "    element=\"poly\",\n",
    "    # y='Sequence Counts'\n",
    "    )\n",
    "\n",
    "# figure.set_axis_labels('')\n",
    "figure.set(\n",
    "    # n=550\n",
    "    xlabel='Proportion of exact matches of gene coordinates'\n",
    "    )\n",
    "figure.text(0.4, 30, r'$\\hat \\mu=0.1967$')\n",
    "\n",
    "# figure.text(0.8,10, r'$\\it{E. coli}$')\n",
    "\n",
    "# circle = plt.Circle((0.9,2), 0.02, color='g', alpha=0.4)\n",
    "\n",
    "figure.annotate(r'$\\it{E. coli}$', xy=(0.9,1), xytext=(0.8,20), arrowprops=dict(facecolor='blue', arrowstyle='->'))\n",
    "figure.annotate('Better', xy=(0.8, 50), xytext=(\n",
    "    0.6, 50), arrowprops=dict(facecolor='green', arrowstyle='->'))\n",
    "# figure.add_patch(circle)\n",
    "\n",
    "# sns.his"
   ]
  },
  {
   "cell_type": "code",
   "execution_count": null,
   "metadata": {},
   "outputs": [],
   "source": [
    "penguins = sns.load_dataset(\"penguins\")\n",
    "print(type(penguins))\n",
    "# prodigal_data\n",
    "len(prodigal_data)"
   ]
  },
  {
   "cell_type": "code",
   "execution_count": null,
   "metadata": {},
   "outputs": [],
   "source": [
    "# penguins"
   ]
  },
  {
   "cell_type": "code",
   "execution_count": null,
   "metadata": {},
   "outputs": [],
   "source": []
  }
 ],
 "metadata": {
  "interpreter": {
   "hash": "d8c0ad78633a8b43965fe5f8bc8a2da663397bf1cf3d05244bf937683be8c88a"
  },
  "kernelspec": {
   "display_name": "Python 3.9.12 ('base')",
   "language": "python",
   "name": "python3"
  },
  "language_info": {
   "codemirror_mode": {
    "name": "ipython",
    "version": 3
   },
   "file_extension": ".py",
   "mimetype": "text/x-python",
   "name": "python",
   "nbconvert_exporter": "python",
   "pygments_lexer": "ipython3",
   "version": "3.9.12"
  },
  "orig_nbformat": 4
 },
 "nbformat": 4,
 "nbformat_minor": 2
}
