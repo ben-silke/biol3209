{
 "cells": [
  {
   "cell_type": "markdown",
   "metadata": {},
   "source": [
    "# Prodigal Testing\n",
    "\n",
    "prodigal -i input/NC_000913.3.fasta -o output/nc_000913.3.coords.gbk -a output/nc_000913-protein.translations.faa\n"
   ]
  },
  {
   "cell_type": "markdown",
   "metadata": {},
   "source": [
    "# Just ortholog testing\n",
    "\n",
    "\n",
    "python3 justOrthologs.py -q /Users/bensilke/gavins-lab/biol3209/prodigal/data/output/nc_000913.3-mrna.faa -s /Users/bensilke/gavins-lab/biol3209/prodigal/data/output/nc_000963.1-mrna.faa -o output -c -t 16"
   ]
  },
  {
   "cell_type": "markdown",
   "metadata": {},
   "source": []
  }
 ],
 "metadata": {
  "kernelspec": {
   "display_name": "Python 3.9.13 64-bit",
   "language": "python",
   "name": "python3"
  },
  "language_info": {
   "name": "python",
   "version": "3.10.6"
  },
  "orig_nbformat": 4,
  "vscode": {
   "interpreter": {
    "hash": "b0fa6594d8f4cbf19f97940f81e996739fb7646882a419484c72d19e05852a7e"
   }
  }
 },
 "nbformat": 4,
 "nbformat_minor": 2
}
